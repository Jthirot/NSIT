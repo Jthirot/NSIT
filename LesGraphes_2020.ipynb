{
 "cells": [
  {
   "cell_type": "markdown",
   "metadata": {
    "colab_type": "text",
    "id": "5Tv2duaSSfZH"
   },
   "source": [
    "# **Structure de données : Les Graphes**"
   ]
  },
  {
   "cell_type": "markdown",
   "metadata": {
    "colab_type": "text",
    "id": "7juWKUJESj-u"
   },
   "source": [
    "## **1. Exemple de la représentation d'un réseau social**"
   ]
  },
  {
   "cell_type": "markdown",
   "metadata": {
    "colab_type": "text",
    "id": "c8hI5lvBTHet"
   },
   "source": [
    " Imaginez un réseau social ayant 6 abonnés (A, B, C, D, E et F) où :\n",
    "\n",
    "    A est ami avec B, C et D\n",
    "    B est ami avec A et D\n",
    "    C est ami avec A, E et D\n",
    "    D est ami avec tous les autres abonnés\n",
    "    E est ami avec C, D et F\n",
    "    F est ami avec E et D\n",
    "\n",
    "La description de ce réseau social, malgré son faible nombre d'abonnés, est déjà quelque peu rébarbative, alors imaginez cette même description avec un réseau social comportant des millions d'abonnés !\n",
    "\n",
    "Il existe un moyen plus \"visuel\" pour représenter ce réseau social : on peut représenter chaque abonné par un cercle (avec le nom de l'abonné situé dans le cercle) et chaque relation \"X est ami avec Y\" par un segment de droite reliant X et Y (\"X est ami avec Y\" et \"Y est ami avec X\" étant représenté par le même segment de droite).\n",
    "\n",
    "Voici ce que cela donne avec le réseau social décrit ci-dessus "
   ]
  },
  {
   "cell_type": "markdown",
   "metadata": {
    "colab_type": "text",
    "id": "KRypp_05UTlU"
   },
   "source": [
    "<img src=\"https://pixees.fr/informatiquelycee/n_site/img/graphe.png\">\n"
   ]
  },
  {
   "cell_type": "markdown",
   "metadata": {
    "colab_type": "text",
    "id": "IrKoKyC7Yzz_"
   },
   "source": [
    " Ce genre de figure s'appelle un graphe. Les graphes sont des objets mathématiques très utilisés, notamment en informatique.\n",
    "\n",
    "- Les cercles sont appelés des sommets\n",
    "- Les segments de droites qui relient 2 sommets sont appelés relations\n",
    "\n",
    "Plus formellement on dira qu'un graphe G est un couple G = (V,E) avec V un ensemble de sommets et E un ensemble de relations "
   ]
  },
  {
   "cell_type": "markdown",
   "metadata": {
    "colab_type": "text",
    "id": "IdrNStW1Y_f2"
   },
   "source": [
    "**Exercice :**\n",
    "\n",
    "\n",
    "\n",
    "Construisez un graphe de réseau social à partir des informations suivantes :\n",
    "\n",
    "    A est ami avec B et E\n",
    "    B est ami avec A et C\n",
    "    C est ami avec B,F et D\n",
    "    D est ami avec C,F et E\n",
    "    E est ami avec A,D et F\n",
    "    F est ami avec C, D et E\n",
    "\n"
   ]
  },
  {
   "cell_type": "markdown",
   "metadata": {
    "colab_type": "text",
    "id": "Nq8s07fJZEzg"
   },
   "source": [
    "## **2. Exemple en cartographie**"
   ]
  },
  {
   "cell_type": "markdown",
   "metadata": {
    "colab_type": "text",
    "id": "cKlCNLQ7ZS6f"
   },
   "source": [
    "Autre utilisation possible des graphes : les logiciels de cartographie (ces logiciels sont souvent utilisés couplés à des récepteurs GPS). Ces logiciels de cartographie permettant, connaissant votre position grâce à un récepteur GPS, d'indiquer la route à suivre pour se rendre à endroit B. Comment modéliser l'ensemble des lieux et des routes ? Simplement à l'aide d'un graphe ! Chaque lieu est un sommet et les routes qui relient les lieux entre eux sont des arêtes. "
   ]
  },
  {
   "cell_type": "markdown",
   "metadata": {
    "colab_type": "text",
    "id": "cbkag0OhZlhN"
   },
   "source": [
    "### **2.1 Graphe non orienté**\n",
    "\n",
    "\n",
    "\n",
    "Soit les lieux suivants : A, B, C, D, E, F et G.\n",
    "\n",
    "Les différents lieux sont reliés par les routes suivantes :\n",
    "\n",
    "    il existe une route entre A et C\n",
    "    il existe une route entre A et B\n",
    "    il existe une route entre A et D\n",
    "    il existe une route entre B et F\n",
    "    il existe une route entre B et E\n",
    "    il existe une route entre B et G\n",
    "    il existe une route entre D et G\n",
    "    il existe une route entre E et F\n",
    "\n",
    "Ici aussi, la représentation sous forme de graphe s'impose : \n",
    "\n",
    "![Texte alternatif…](https://pixees.fr/informatiquelycee/n_site/img/nsi_term_structDo_graphe_1.png)\n",
    "\n",
    "Pour les graphes **non orientés** : les relations sont appelées **arêtes**"
   ]
  },
  {
   "cell_type": "markdown",
   "metadata": {
    "colab_type": "text",
    "id": "VL3z1xB5Xq71"
   },
   "source": [
    "### **2.2 Graphe orienté**\n",
    "\n",
    "\n",
    "\n",
    " Problème : avec cette représentation du réseau routier sous forme de graphe, il est impossible de tenir compte des routes en sens unique (par exemple il est possible d'aller de A vers D mais pas de D vers A)\n",
    "\n",
    "Voici de nouvelles contraintes :\n",
    "\n",
    "    il existe une route entre A et C (double sens)\n",
    "    il existe une route entre A et B (sens unique B->A)\n",
    "    il existe une route entre A et D (sens unique A->D)\n",
    "    il existe une route entre B et F (sens unique B->F)\n",
    "    il existe une route entre B et E (sens unique E->B)\n",
    "    il existe une route entre B et G (double sens)\n",
    "    il existe une route entre D et G (double sens)\n",
    "    il existe une route entre E et F (double)\n",
    "\n",
    "Pour tenir compte de ces nouvelles contraintes, on utilisera un graphe orienté :\n",
    "\n",
    "![Texte alternatif…](https://pixees.fr/informatiquelycee/n_site/img/nsi_term_structDo_graphe_2.png)\n",
    "\n",
    "Dans un graphe orienté , les relations possèdent une orientation. Ces relations sont appelées \"arcs\" .\n",
    "On dira qu'un graphe orienté G est un couple G = (V,A) avec V un ensemble de sommets et A un ensemble d'arcs. "
   ]
  },
  {
   "cell_type": "markdown",
   "metadata": {
    "colab_type": "text",
    "id": "eTy20iQJYBJs"
   },
   "source": [
    "### **2.3 Graphe pondéré**\n",
    "\n",
    "\n",
    "Parfois il est intéressant d'associer aux arrêtes ou aux arcs des valeurs, on parle alors de graphes pondérés. Si nous revenons à notre \"graphe cartographie\", il est possible d'associer à chaque arête la distance en km entre les 2 lieux, ou encore, le temps de trajet entre les deux lieux : \n",
    "\n",
    "**Pondéré en distance**\n",
    "\n",
    "![Texte alternatif…](https://pixees.fr/informatiquelycee/n_site/img/nsi_term_structDo_graphe_3.png)\n",
    "\n",
    "**Pondéré en minutes**\n",
    "\n",
    "![Texte alternatif…](https://pixees.fr/informatiquelycee/n_site/img/nsi_term_structDo_graphe_4.png)\n",
    "\n",
    "En fonction du choix fait par le conducteur (trajet le plus court \"en distance\" ou trajet le plus court \"en temps\"), l'algorithme permettant de déterminer le \"chemin le plus court entre 2 points\" travaillera sur le graphe \"graphe pondéré (km) cartographie\" ou sur le graphe \"graphe pondéré (minutes) cartographie\". À noter que le \"graphe pondéré (minutes) cartographie\" peut évoluer au cours du temps en fonction du trafic routier : une application comme Waze utilise les données en en provenance des utilisateurs de l'application afin de mettre à jour en temps réél leur \"graphe pondéré (minutes) cartographie\". \n",
    "\n"
   ]
  },
  {
   "cell_type": "markdown",
   "metadata": {
    "colab_type": "text",
    "id": "QuBI5BQRY2ZV"
   },
   "source": [
    "## **3. Situations où la structure de données graphe nous est utile**\n",
    "\n"
   ]
  },
  {
   "cell_type": "markdown",
   "metadata": {
    "colab_type": "text",
    "id": "u0kDDkzFZHEe"
   },
   "source": [
    " Source de cette partie : [https://zestedesavoir.com/]  \n",
    " Un graphe sert avant tout à manipuler des concepts, et à établir un lien entre ces concepts. N'importe quel problème comportant des objets avec des relations entre ces objets peut être modélisé par un graphe.\n",
    "Il apparaît donc que les graphes sont des outils très puissants et largement répandus qui se prêtent bien à la résolution de nombreux problèmes.\n",
    "\n",
    "En voici quelques uns. \n"
   ]
  },
  {
   "cell_type": "markdown",
   "metadata": {
    "colab_type": "text",
    "id": "F54LaSCQZKHq"
   },
   "source": [
    "### **3.1 La recherche de chemins**\n",
    "\n",
    "Il s'agit d'un cas très classique, notamment dans le domaine du jeu vidéo. Chaque nœud représente une position (ici une case libre) et chaque arête correspond à un chemin entre deux positions (ici deux cases libres adjacentes).\n",
    "Il est courant de chercher le chemin le plus court entre deux positions : les IA s'en servent pour déplacer les créatures aussi vite que possible dans le monde virtuel. En remplaçant les nœuds par des adresses et les arêtes par des routes, on obtient le graphe utilisé par les GPS ou Google Map par exemple.\n",
    "On utilise couramment le terme anglais pathfinding pour désigner la recherche de chemins dans un graphe. \n",
    "\n",
    "![Texte alternatif…](https://zestedesavoir.com/media/galleries/912/0dcbf772-4c53-471a-89a5-80a64a58be9f.jpg.960x960_q85.jpg)\n",
    "\n"
   ]
  },
  {
   "cell_type": "markdown",
   "metadata": {
    "colab_type": "text",
    "id": "zE1r1kAWZlTY"
   },
   "source": [
    "### **3.2 Des relations entre individus**\n",
    "\n",
    "Cet outil est très utilisé en sciences sociales pour représenter des individus et leurs différents liens. On en fait usage dans le milieu de la recherche, mais aussi dans les réseaux sociaux. L'objectif va être de pouvoir identifier les communautés formées, les centres d'intérêt communs… Une exploitation intelligente de ces données est indispensable pour suggérer à l'utilisateur les choses qu'il est susceptible d'aimer, les personnes qu'il connaît peut-être, et avant tout (et surtout) pour créer des publicités ciblées adaptées à chacun.\n",
    "\n",
    "Une anecdote à ce sujet : en moyenne seules 8 personnes vous séparent de n'importe quelle autre personne à la surface de la Terre. Si vous prenez la connaissance de la connaissance etc… d'une de vos connaissances, en moyenne 8 personnes permettront de vous connecter avec n'importe quel français, américain, indien ou japonais. Et il est rare de dépasser 11 ou 12. Il s'agit là du diamètre moyen du graphe social de l'humanité.\n",
    "\n",
    "\n",
    "![Texte alternatif…](https://zestedesavoir.com/media/galleries/912/f84449b8-1172-4f05-b133-43ec692e42a4.png.960x960_q85.jpg)\n",
    "\n"
   ]
  },
  {
   "cell_type": "markdown",
   "metadata": {
    "colab_type": "text",
    "id": "mCcRTYqsaBlQ"
   },
   "source": [
    "### **3.3 L’ordonnancement de tâches : le tri topologique**\n",
    "\n",
    "Les problèmes d'ordonnancement de tâches sont toujours un sujet de recherche active aujourd'hui. On peut représenter chacune des tâches à effectuer par un nœud, et les dépendances entre chacune des tâches par les arêtes. Ainsi, l’ordre dans lequel on enfile chaussettes et pantalon importe peu, mais il faut que les deux soient mis avant de lacer ses chaussures. De la même façon, on peut installer les câblages électrique et téléphonique dans l'ordre de notre choix, mais il faut que les murs soient construits avant !\n",
    "On résout ce problème avec **un tri topologique**. \n",
    "\n",
    "\n",
    "![Texte alternatif…](https://zestedesavoir.com/media/galleries/912/2215a2ef-3d28-492e-a1ca-652a956fda31.jpg.960x960_q85.jpg)\n",
    "\n"
   ]
  },
  {
   "cell_type": "markdown",
   "metadata": {
    "colab_type": "text",
    "id": "_BqjfzASaL6Q"
   },
   "source": [
    "### **3.4 Minimiser l'usage de ressources avec les arbres couvrants minimaux**\n",
    "\n",
    "En parlant de câblage, vous souhaitez que toutes vos prises soient reliées au secteur, non ? Cela est simple ! Mais le fil électrique coûte cher au mètre et vous souhaitez minimiser le prix de votre installation.\n",
    "Ainsi, vous associerez un nœud à chaque prise, et une arête à chaque fil qu'il est possible (mais pas nécessaire) d'installer. A vous de choisir l'ensemble de câbles les plus courts pour relier toutes les prises !\n",
    "Cela correspond à la recherche de l'arbre couvrant minimal. \n",
    "\n",
    "**Ici l'ensemble de fils les plus courts est colorié en rouge. **\n",
    "![Texte alternatif…](https://zestedesavoir.com/media/galleries/912/579ce0b7-7181-4eb1-a199-364cc761079f.png.960x960_q85.jpg)\n",
    "\n"
   ]
  },
  {
   "cell_type": "markdown",
   "metadata": {
    "colab_type": "text",
    "id": "Bg9oyrrnad5W"
   },
   "source": [
    "### **3.5 Tromper votre ennui en géographie en coloriant des cartes**\n",
    "\n",
    "Vous vous ennuyez à mourir en géographie. Comme vous êtes un individu froid et austère, mais aussi efficace, économe et démuni, vous souhaitez colorier cette triste carte en utilisant un minimum de couleurs, et en faisant en sorte que deux pays limitrophes ne soient jamais de la même couleur.\n",
    "Il s'agit du problème de coloration de graphe. Pour une carte en 2D ne cherchez plus : la réponse est 4, mais ce n'est pas le cas de tout les graphes… en effet, dans un carte, chaque pays est un nœud, et les arêtes correspondent au frontières communes. \n",
    "\n",
    "\n",
    "![Texte alternatif…](https://zestedesavoir.com/media/galleries/912/029ad86a-cbc0-4a1a-ae7d-26aa339924c2.gif.960x960_q85.jpg)\n",
    "\n"
   ]
  },
  {
   "cell_type": "markdown",
   "metadata": {
    "colab_type": "text",
    "id": "IOLFBXxSareO"
   },
   "source": [
    "### **3.6 Poster du courrier**\n",
    "\n",
    "\n",
    "\n",
    "Vous êtes le facteur d'un petit village, vous distribuez le courrier à vélo, à la seule force de vos jambes. Vous devez passer devant toutes les maisons du village, ce qui implique de traverser toutes les rues. Mais soucieux de préserver vos forces et de renouveler continuellement votre découverte des paysages, vous ne voulez pas traverser deux fois la même rue. Ici chaque nœud est un carrefour, et chaque arête une rue. Vous êtes en train de chercher un circuit Eulérien !\n",
    "\n",
    "Il doit son nom à Leonhard Euler, qui chercha à savoir s'il était possible de franchir les 7 ponts de Königsberg sans jamais repasser deux fois sur le même (et en ne traversant le fleuve que grâce aux ponts, bien entendu).\n",
    "\n",
    "\n",
    "\n",
    "![Texte alternatif…](https://zestedesavoir.com/media/galleries/912/f16ed77f-92ef-4a07-bd8f-e41f37ffff48.png.960x960_q85.jpg)\n",
    "\n"
   ]
  },
  {
   "cell_type": "markdown",
   "metadata": {
    "colab_type": "text",
    "id": "0wOLPnO7bCav"
   },
   "source": [
    "### **3.7 ... d'autres exemples**\n",
    "\n",
    "Pensez à Youtube qui suggère des vidéos proches de celle que vous regardez (d'aucun prétendent qu'on finira toujours par aboutir à des vidéos de chats), pensez à wikipédia qui propose des articles connexes (nous reviendrons sur ce terme), pensez au cerveau humain, à ses milliards de neurones et à ses centaines de milliards de connexions entre eux ! Les graphes sont partout.\n",
    "\n",
    "Apprenez à reconnaître un problème de graphe lorsque vous en voyez un, c'est déjà la moitié du travail. Il ne vous reste alors plus qu'à trouver l'algorithme qui répond à votre problème !\n",
    "\n",
    "**Il existe de nombreuses méthodes permettant d'implémenter un graphe. Nous verrons tout d'abord les matrices d'adjacences et les listes d'adjacences.** "
   ]
  },
  {
   "cell_type": "markdown",
   "metadata": {
    "colab_type": "text",
    "id": "jlcITPWqcMHd"
   },
   "source": [
    "## **4. Terminologie**\n",
    "\n"
   ]
  },
  {
   "cell_type": "markdown",
   "metadata": {
    "colab_type": "text",
    "id": "2Ghuu0KccTXV"
   },
   "source": [
    "### **4.1 Terminologie des graphes non orientés**\n",
    "\n",
    "***Tous les termes définis dans cette section sont de simples définitions, que vous devez connaitre***\n",
    "\n",
    "**Arrête** : Relation entre deux sommets. Notation : A−B\n",
    "\n",
    "**Sommets Adjacents** : Deux sommets sont adjacents si ils possèdent au moins une arrête qui les joint.\n",
    "\n",
    "**Degré d'un sommet X** : Le nombre d'arrêtes dont X est une extrémité.\n",
    "\n",
    "**Chaîne** : Suite de sommets consécutifs joints par des arrêtes.\n",
    "\n",
    "**Cycle** : Chaine dont le début est le même que la fin.\n",
    "\n",
    "**Graphe connexe** : Chaque sommet est relié à tous les autres par au moins une chaîne.\n",
    "\n",
    "![Texte alternatif…](https://cms.alloprof.qc.ca//sites/default/files/importFiche/2730i3.jpg)\n",
    "\n",
    "**Graphe complet** : Chaque sommet est relié directement à tout les autres.\n",
    "\n",
    "![Texte alternatif…](https://cms.alloprof.qc.ca//sites/default/files/importFiche/d1414i10.PNG)"
   ]
  },
  {
   "cell_type": "markdown",
   "metadata": {
    "colab_type": "text",
    "id": "kcFDgffWdL3U"
   },
   "source": [
    "### **4.2 Terminologie des graphes orientés**\n",
    "\n",
    " **Arc** : Relation orientée entre deux sommets. Notation : A→B\n",
    "\n",
    "**Sommets Adjacents** : Deux sommets sont adjacents si il existe au moins un arc qui les joint.\n",
    "\n",
    "**Degré d'un sommet X** : Le nombre d'arcs dont X est une extrémité.\n",
    "\n",
    "**Chemin** : Suite de sommets consécutifs joints par des arcs.\n",
    "\n",
    "**Circuit** : Chemin dont le début est le même que la fin.\n",
    "\n",
    "**Exemple :**\n",
    "\n",
    "<img src=\"https://upload.wikimedia.org/wikipedia/commons/thumb/2/23/Directed_graph_no_background.svg/1200px-Directed_graph_no_background.svg.png\" width=300px>"
   ]
  },
  {
   "cell_type": "markdown",
   "metadata": {
    "colab_type": "text",
    "id": "BnE6RkQfd5Pr"
   },
   "source": [
    "### **4.3 Graphes simples et multigraphes**\n",
    "\n",
    "**Graphe simple** : au plus une relation relie 2 sommets et il n'y a pas de boucle (une boucle est une relation reliant un sommet à lui même). Peut être orienté ou non-orienté. \n",
    "Ci dessous un exemple de graphe simple non orienté.\n",
    "\n",
    "**Exemple :**\n",
    "\n",
    "![Texte alternatif…](Capture_graphe_simple.JPG)\n",
    "\n",
    "**Multi graphe** : les graphes qui ne sont pas simples ! C'est à dire possédant au moins une boucle ou 2 sommets avec 2 relation\n",
    "\n",
    "**Exemple :**\n",
    "\n",
    "![Texte alternatif…](https://upload.wikimedia.org/wikipedia/commons/thumb/a/a7/Multigraph.svg/200px-Multigraph.svg.PNG)\n",
    "\n"
   ]
  },
  {
   "cell_type": "markdown",
   "metadata": {
    "colab_type": "text",
    "id": "siaVGYYZRITe"
   },
   "source": [
    "## **5. Exercices sur les graphes**"
   ]
  },
  {
   "cell_type": "markdown",
   "metadata": {
    "colab_type": "text",
    "id": "M8H9uPRbROXT"
   },
   "source": [
    "Faire sur wims : GRAPHE exercice sur les graphes"
   ]
  },
  {
   "cell_type": "markdown",
   "metadata": {
    "colab_type": "text",
    "id": "CWrLdcDORY-s"
   },
   "source": [
    "## **6. Implémenter un graphe avec une Matrice d'adjacence**\n",
    "\n",
    "Une matrice est un tableau à double entrée : \n",
    "\n",
    "Exemple de matrice\n",
    "![texte du lien](https://pixees.fr/informatiquelycee/n_site/img/nsi_term_structDo_graphe_5.png)\n",
    "\n",
    "\n",
    "\n",
    "\n",
    "\n",
    "\n",
    "\n"
   ]
  },
  {
   "cell_type": "markdown",
   "metadata": {
    "colab_type": "text",
    "id": "wubJeuVvUg7S"
   },
   "source": [
    " La matrice A ci-dessus est constitué de 5 lignes et 4 colonnes. On appelle matrice carrée une matrice qui comporte le même nombre de lignes et de colonnes. Les matrices d'adjacences sont des matrices carrées.\n",
    "\n",
    "\n",
    "\n",
    "\n",
    "\n",
    "Reprenons l'exemple du \"graphe cartographie\" vu en 2.1: \n",
    "\n",
    "![Texte alternatif…](https://pixees.fr/informatiquelycee/n_site/img/nsi_term_structDo_graphe_1.png)"
   ]
  },
  {
   "cell_type": "markdown",
   "metadata": {
    "colab_type": "text",
    "id": "QtwsZgReUtD5"
   },
   "source": [
    "Voici la matrice d'adjacence de ce graphe :\n",
    "\n",
    "![](https://pixees.fr/informatiquelycee/n_site/img/nsi_term_structDo_graphe_6.png)\n"
   ]
  },
  {
   "cell_type": "markdown",
   "metadata": {
    "colab_type": "text",
    "id": "nBLzX8TbU-RJ"
   },
   "source": [
    " Comment construire une matrice d'adjacence ?\n",
    "\n",
    "Il faut savoir qu'à chaque ligne correspond un sommet du graphe et qu'à chaque colonne correspond aussi un sommet du graphe. À chaque intersection ligne i-colonne j (ligne i correspond au sommet i et colonne j correspond au sommet j), on place un 1 s'il existe une arête entre le sommet i et le sommet j, et un zéro s'il n'existe pas d'arête entre le sommet i et le sommet j. \n",
    "\n",
    "![](https://pixees.fr/informatiquelycee/n_site/img/nsi_term_structDo_graphe_7.png)\n"
   ]
  },
  {
   "cell_type": "markdown",
   "metadata": {
    "colab_type": "text",
    "id": "2bDCez_SVH6A"
   },
   "source": [
    "\n",
    "  Il existe une arête entre le sommet E et le sommet F, nous avons donc placé un 1 à l'intersection de la ligne E et de la colonne F (il en est de même à l'intersection de la ligne F et de la colonne E)\n",
    "  \n",
    "  Il n'existe pas d'arête entre le sommet D et le sommet C, nous avons donc placé un 0 à l'intersection de la ligne D et de la colonne C (il en est de même à l'intersection de la ligne C et de la colonne D)\n"
   ]
  },
  {
   "cell_type": "markdown",
   "metadata": {
    "colab_type": "text",
    "id": "_UToa_H6VYEZ"
   },
   "source": [
    "**Exercice 1:**\n",
    "\n",
    "Vérifiez que la matrice d'adjacence proposée ci-dessus correspond bien au graphe \"cartographie\" (retracer à la main le graphe à partir de la matrice).\n",
    "\n"
   ]
  },
  {
   "cell_type": "markdown",
   "metadata": {
    "colab_type": "text",
    "id": "UO5GywrYVrav"
   },
   "source": [
    "**Exercice 2:**\n",
    "\n",
    "Établissez la matrice d'adjacence du graphe ci-dessous \n",
    "\n",
    "![](https://pixees.fr/informatiquelycee/n_site/img/graphe.png)\n",
    "Graphe réseau social\n"
   ]
  },
  {
   "cell_type": "markdown",
   "metadata": {
    "colab_type": "text",
    "id": "MilGY-ZfV1mH"
   },
   "source": [
    "**Exercice 3:**\n",
    "\n",
    "Il est aussi possible d'établir une matrice d'adjacence pour un graphe orienté. Le principe reste le même : si le sommet i (ligne) est lié au sommet j (colonne), nous avons un 1 à l'intersection (0 dans le cas contraire).  \n",
    "\n",
    "\n",
    " Établissez la matrice d'adjacence du graphe ci-dessous  \n",
    "\n",
    "![](Capture_exo_mat_adj.JPG)\n",
    "Graphe orienté"
   ]
  },
  {
   "cell_type": "markdown",
   "metadata": {
    "colab_type": "text",
    "id": "_-3NseGHkSNH"
   },
   "source": [
    "**Matrices d'adjacence en python**\n",
    "\n",
    "Il est assez simple d'utiliser les matrices d'adjacence en Python grâce aux tableaux de tableaux vus l'année dernière :"
   ]
  },
  {
   "cell_type": "code",
   "execution_count": null,
   "metadata": {
    "colab": {},
    "colab_type": "code",
    "collapsed": true,
    "id": "FhsVzRlnkXwe"
   },
   "outputs": [],
   "source": [
    "#matrice d'ajacence pour le graphe cartographie\n",
    "m = [[0, 1, 1, 1, 0, 0, 0],\n",
    "     [1, 0, 0, 0, 1, 1, 1],\n",
    "     [1, 0, 0, 0, 0, 0, 0],\n",
    "     [1, 0, 0, 0, 0, 0, 1],\n",
    "     [0, 1, 0, 0, 0, 1, 0],\n",
    "     [0, 1, 0, 0, 1, 0, 0],\n",
    "     [0, 1, 0, 1, 0, 0, 0]]\n",
    "\n",
    "print(m)"
   ]
  },
  {
   "cell_type": "markdown",
   "metadata": {
    "colab_type": "text",
    "id": "J8BM2HPfkin-"
   },
   "source": [
    "## **7. Implémenter un graphe avec des Listes d'adjacence**"
   ]
  },
  {
   "cell_type": "markdown",
   "metadata": {
    "colab_type": "text",
    "id": "jQiqhyvjk1QO"
   },
   "source": [
    " Pour commencer, on définit une liste des sommets du graphe. À chaque élément de cette liste, on associe une autre liste qui contient les sommets lié à cet élément :\n",
    "\n",
    "Reprenons l'exemple du \"graphe cartographie\" : \n",
    "\n",
    "![](https://pixees.fr/informatiquelycee/n_site/img/nsi_term_structDo_graphe_1.png)\n",
    "\n"
   ]
  },
  {
   "cell_type": "markdown",
   "metadata": {
    "colab_type": "text",
    "id": "G4D1x8YEtPhY"
   },
   "source": [
    "Voici la liste d'adjacence de ce graphe : \n",
    "\n",
    "![](https://pixees.fr/informatiquelycee/n_site/img/nsi_term_structDo_graphe_10.png)\n"
   ]
  },
  {
   "cell_type": "markdown",
   "metadata": {
    "colab_type": "text",
    "id": "Kotm7LJvtW9n"
   },
   "source": [
    "Pour les graphes orientés, il est nécessaire de définir 2 listes : la liste des successeurs et la liste des prédécesseurs. Soit un arc allant d'un sommet A vers un sommet B (flèche de A vers B). On dira que B est un successeur de A et que A est un prédécesseur de B :\n",
    "\n",
    "![](https://pixees.fr/informatiquelycee/n_site/img/nsi_term_structDo_graphe_2.png)\n",
    "\n",
    "liste d'adjacence successeurs du graphe orienté cartographie :\n",
    "\n",
    "![](https://pixees.fr/informatiquelycee/n_site/img/nsi_term_structDo_graphe_11.png)\n",
    "\n",
    "\n",
    "liste d'adjacence prédécesseurs du graphe orienté cartographie :\n",
    "\n",
    "![](https://pixees.fr/informatiquelycee/n_site/img/nsi_term_structDo_graphe_12.png)"
   ]
  },
  {
   "cell_type": "markdown",
   "metadata": {
    "colab_type": "text",
    "id": "6IPvNCSKuA3m"
   },
   "source": [
    "**Exercice 1:**\n",
    "\n",
    "Établissez la liste d'adjacence du graphe ci-dessous :\n",
    "\n",
    "![](https://pixees.fr/informatiquelycee/n_site/img/graphe.png)\n",
    "\n"
   ]
  },
  {
   "cell_type": "markdown",
   "metadata": {
    "colab_type": "text",
    "id": "pAsUYIEYvLVm"
   },
   "source": [
    "Il est possible de travailler avec des listes d'adjacences en Python en utilisant les dictionnaires : "
   ]
  },
  {
   "cell_type": "code",
   "execution_count": null,
   "metadata": {
    "colab": {},
    "colab_type": "code",
    "collapsed": true,
    "id": "cMM7YeHXvNZg"
   },
   "outputs": [],
   "source": [
    "#liste d'ajacence pour le graphe cartographie\n",
    "l = {'A':['B','C','D'], 'B':['A', 'E', 'F', 'G'], 'C':['A'], 'D':['A', 'G'], 'E':['B', 'F'],\\\n",
    "     'F':['B', 'E'], 'G':['B', 'D']}\n",
    "print(l)"
   ]
  },
  {
   "cell_type": "markdown",
   "metadata": {
    "colab_type": "text",
    "id": "XwM6cmGLvzRW"
   },
   "source": [
    "## **8. Exercices sur les matrices et listes d'adjacence**"
   ]
  },
  {
   "cell_type": "markdown",
   "metadata": {
    "colab_type": "text",
    "id": "VJ0H_DJsv_md"
   },
   "source": [
    "Faire sur wims : GRAPHE exercice sur les graphes"
   ]
  },
  {
   "cell_type": "markdown",
   "metadata": {
    "colab_type": "text",
    "id": "MBn9rl7EzXJ0"
   },
   "source": [
    "## **9. Implémentation en pratique (en Python)**\n",
    "\n"
   ]
  },
  {
   "cell_type": "markdown",
   "metadata": {
    "colab_type": "text",
    "id": "gRD9kFq4zVcO"
   },
   "source": [
    "**Comment choisir l'implémentation à utiliser (matrice d'adjacence ou liste d'adjacence) ?**\n",
    "\n",
    "\n",
    "  le choix se fait en fonction de la densité du graphe, c'est-à-dire du rapport entre le nombre d'arêtes et le nombre de sommets. Pour un graphe dense on utilisera plutôt une matrice d'adjacence.\n",
    "\n",
    "  Certains algorithmes travaillent plutôt avec les listes d'adjacences alors que d'autres travaillent plutôt avec les matrices d'adjacences. Le choix doit donc aussi dépendre des algorithmes utilisés (nous aurons très prochainement l'occasion d'étudier plusieurs de ces algorithmes).\n"
   ]
  },
  {
   "cell_type": "markdown",
   "metadata": {
    "colab_type": "text",
    "id": "iOoEG3wR0Lsr"
   },
   "source": [
    "**Implémenter les graphes :**\n",
    "\n",
    "Comme les listes, les piles, et les files, il est important de distinguer le type abstrait de représentation des données, du type implémenté dans le langage.\n",
    "\n",
    "En Python il n'existe pas de type GRAPHE prédéfini. C'est donc à chacun de l'implémenter avec les outils disponibles dans le langage.\n",
    "\n",
    "Comme pour les listes il peut exister, selon les auteurs, des différences sur le nombre et la définition des primitives de bases. Nous allons utiliser ici ce jeu de primitives :  \n",
    "\n",
    "- `creerGrapheVide()` : retourne un graphe vide\n",
    "- `estVideGraphe(G)` : retourne True si G est un graphe vide\n",
    "- `ajouterSommet(G,s)` : retourne le graphe après ajout du sommet s\n",
    "- `supprimerSommet(G,s)` : retourne le graphe après suppression du sommet s (et tout les arcs rliés à s)\n",
    "- `existeSommet(G,s)` : retourne True si s est un sommet du graphe G  \n",
    "  \n",
    "  \n",
    "    \n",
    "- Pour un graphe orienté :\n",
    "  - `ajouterArc(G,sd,sa)` : retourne le graphe après ajout d'un arc reliant sd à sa (orienté)\n",
    "  - `supprimerArc(G,sd,sa)` : retourne le graphe après suppression de l'arc sd->sa\n",
    "  - `existeArc(G,sd,sa)` : retourne True si sd->sa est un arc du graphe G\n",
    "- Pour un graphe non orienté :\n",
    "  - `ajouterArete(G,sd,sa)` : retourne le graphe après ajout d'une arête reliant sd à sa (non-orienté)\n",
    "  - `supprimerArete(G,sd,sa)` : retourne le graphe après suppression de l'arête sd->sa\n",
    "  - `existeArete(G,sd,sa)` : retourne True si sd->sa est une arête du graphe G\n"
   ]
  },
  {
   "cell_type": "markdown",
   "metadata": {
    "colab_type": "text",
    "id": "4VGUcrZe0Y06"
   },
   "source": [
    "**Une première implémentation avec un dictionnaire**\n",
    "\n",
    "Comme nous l'avons vu, un graphe peut être représenté par une liste d'adjacence. Cette représentation peut être implémentée efficacement avec un dictionnaire. Chaque sommet sera donc une clé dictionnaire, et sa valeur sera la liste des sommets sa reliés à s dans le sens s -> sa.\n",
    "\n",
    "En conséquence, un graphe vide est un dictionnaire vide."
   ]
  },
  {
   "cell_type": "code",
   "execution_count": null,
   "metadata": {
    "colab": {},
    "colab_type": "code",
    "collapsed": true,
    "id": "pE9ZlDsF0bJs"
   },
   "outputs": [],
   "source": [
    "def creerGrapheVide() -> dict:\n",
    "    return {}\n",
    "def estVideGraphe(G : dict) -> bool :\n",
    "    return G=={}\n",
    "def ajouterSommet(G : dict , s ) -> dict : #s peut être str ou int\n",
    "    assert s not in G,'Vous ne pouvez pas ajouter un sommet déjà existant'\n",
    "    G[s]=[]\n",
    "def ajouterArc(G : dict ,sd,sa) -> dict : #sd et sa peuvent être str ou int\n",
    "    assert sd in G ,'le graphe ne contient pas le sommet  de depart '\n",
    "    assert sa in G ,'le graphe ne contient pas le sommet  arrivee '\n",
    "    G[sd].append(sa)\n",
    "def supprimerSommet(G : dict , s ) -> dict:  #s peut être str ou int\n",
    "    assert s in G,'le graphe ne contient pas le sommet '\n",
    "    del G[s]\n",
    "    for sommet in G.keys() :\n",
    "        if s in G[sommet] :\n",
    "            G[sommet].remove(s)\n",
    "def supprimerArc(G : dict,sd,sa) -> dict : # sd et sa peuvent etre int ou str \n",
    "    assert sd in G,'le graphe ne contient pas le sommet '\n",
    "    assert sa in G,'le graphe ne contient pas le sommet dcarrivee'\n",
    "    assert sa in G[sd] , 'l arc  n existe pas.'\n",
    "    G[sd].remove(sa)\n",
    "def existeSommet(G : dict ,s) -> bool :  #s peut être str ou int\n",
    "    return s in G\n",
    "def existeArc(G : dict ,sd,sa) -> bool :  #sd et sa peuvent être str ou int\n",
    "    return sd in G and sa in G[sd]\n",
    "\n",
    "G=creerGrapheVide()\n",
    "ajouterSommet(G,'A')\n",
    "ajouterSommet(G,'B')\n",
    "ajouterSommet(G,'C')\n",
    "ajouterSommet(G,'D')\n",
    "ajouterArc(G,'A','B')\n",
    "ajouterArc(G,'C','D')\n",
    "\n",
    "print('après ajout des 4 sommets et des arcs A->B et C->D:\\nG = ',G)\n",
    "\n",
    "print('A dans G ? :',existeSommet(G,'A'))\n",
    "print('A->B dans G ? :',existeArc(G,'A','B'))\n",
    "supprimerArc(G,'A','B')\n",
    "print('A->B dans G après suppression ? :',existeArc(G,'A','B'))\n",
    "\n",
    "supprimerSommet(G,'D')\n",
    "\n",
    "print('Après suppression du sommet D\\n G = ',G)"
   ]
  },
  {
   "cell_type": "markdown",
   "metadata": {
    "colab_type": "text",
    "id": "kC4_Wwgx3Egi"
   },
   "source": [
    "**Exercice 1 : Implémenter un graphe**\n",
    "\n",
    "En utilisant l'implémentation de l'exemple précédant, créez le dictionnaire G correspondant au graphe ci-dessous. Votre code doit afficher le dictionnaire correspondant à ce graphe. \n",
    "\n",
    "implémentation avec dictionnaire\n",
    "<img src=\"https://upload.wikimedia.org/wikipedia/commons/thumb/2/23/Directed_graph_no_background.svg/1920px-Directed_graph_no_background.svg.png\" width=\"300\" height=\"300\" />"
   ]
  },
  {
   "cell_type": "code",
   "execution_count": null,
   "metadata": {
    "colab": {},
    "colab_type": "code",
    "collapsed": true,
    "id": "t0CE7iry362I"
   },
   "outputs": [],
   "source": [
    "def creerGrapheVide() -> dict:\n",
    "    return {}\n",
    "def estVideGraphe(G : dict) -> bool :\n",
    "    return G=={}\n",
    "def ajouterSommet(G : dict , s ) -> dict : #s peut être str ou int\n",
    "    assert s not in G.keys(),'vous ne pouvez pas ajouter un sommet déjà existant'\n",
    "    G[s]=[]\n",
    "def ajouterArc(G : dict , sd , sa ) -> dict : #sa et sd peuvent être str ou int\n",
    "    assert sd in G ,'le graphe ne contient pas le sommet de depart '\n",
    "    assert sa in G ,'le graphe ne contient pas le sommet d arrivee'\n",
    "    G[sd].append(sa)\n",
    "def supprimerSommet(G : dict , s ) -> dict : #s peut être str ou int\n",
    "    assert s in G,'le graphe ne contient pas le sommet '\n",
    "    del G[s]\n",
    "    for sommet in G.keys() :\n",
    "        if s in G[sommet] :\n",
    "            G[sommet].remove(s)\n",
    "def supprimerArc(G : dict ,sd , sa ) -> dict: #sd et sa peuvent être str ou int\n",
    "    assert sd in G,'le graphe ne contient pas le sommet de depart '\n",
    "    assert sa in G,'le graphe ne contient pas le sommet '\n",
    "    assert sa in G[sd] , 'l arc  n existe pas.'\n",
    "    G[sd].remove(sa)\n",
    "def existeSommet(G : dict , s ) -> bool:\n",
    "    return s in G\n",
    "def existeArc(G : dict , sd  , sa ) -> bool: #sd et sa peuvent être str ou int\n",
    "    return sd in G and sa in G and sa in G[sd]\n",
    "\n",
    "G=creerGrapheVide()\n",
    "# complétez ici\n",
    "\n",
    "\n"
   ]
  },
  {
   "cell_type": "markdown",
   "metadata": {},
   "source": [
    "**Visualiser un graphe orienté :**  \n",
    "Il est pratique de visualiser un graphe implémenté par exemple sous forme de dictionnaire.  \n",
    "Pour cela nous allons utiliser la bibliothèque networkx. Vous pouvez lire un documentation ici : [https://networkx.github.io/documentation/stable/reference/introduction.html]  \n",
    "Voici un exemple qui montre comment créer un graphe orienté de type networkx, et qui l'affiche"
   ]
  },
  {
   "cell_type": "code",
   "execution_count": null,
   "metadata": {
    "collapsed": true
   },
   "outputs": [],
   "source": [
    "import matplotlib.pyplot as plt\n",
    "import networkx as nx\n",
    "\n",
    "def cree_graphe_oriente_nx(dictionnaire: dict) -> nx.DiGraph:\n",
    "    \"\"\"\n",
    "    Cette fonction premet de transformer une représentation en dictionnaire en\n",
    "    une représentation «complexe» d'un objet graphe orienté.\n",
    "\n",
    "    - Précondition : l'entrée est un dictionnaire\n",
    "    - Postcondition : la sortie est un graphe orienté (DiGraph) de Networkx\n",
    "    \"\"\"\n",
    "    G = nx.DiGraph()  # pour un graph non oriente :  G = nx.Graph()\n",
    "    for sommets in dictionnaire.keys():\n",
    "        G.add_node(sommets) # Creation des sommets\n",
    "    for sommet in dictionnaire:\n",
    "        for sommets_adjacents in dictionnaire[sommet]:\n",
    "            G.add_edge(sommet, sommets_adjacents) # Creation des arcs\n",
    "    return G\n",
    "\n",
    "\n",
    "gr = {1: [2, 3], 2: [], 3: [2, 4], 4: [3]}\n",
    "G=cree_graphe_oriente_nx(gr)\n",
    "# Pour une representation circulaire : nx.draw_circular(G,with_labels=True)\n",
    "nx.draw(G,with_labels=True) # Pour une representation classique\n",
    "plt.show()"
   ]
  },
  {
   "cell_type": "markdown",
   "metadata": {
    "colab_type": "text",
    "id": "XsMJsY5S7ced"
   },
   "source": [
    "**Exercice 2 : Modifier l'implémentation pour modéliser un graphe non orienté (primitives d'ajout)** \n",
    "\n",
    "Vous allez modifier notre première implémentation pour modéliser un graphe non orienté.\n",
    "\t\n",
    "\n",
    "  Dans la version d'implémentation fournie ci-dessous, on a remplacé la primitives ajouterArc par ajouterArete, mais on a pas modifié le code de cette primitive. Vous devez le faire vous même : dans le cas d'un graphe non orienté, ajouter une arrête SD-SA revient à ajouter SD dans la liste d'ajacence de SA, et SA dans la liste d'adjacence de SD. Le code doit donc faire le travail correctement.\n",
    "\n",
    "  Dans cet exercice nous n'incluerons que les primitives d'ajout de sommets et d'arêtes, les primitives pour retirer seront traitées dans un second temps.  \n",
    "  \n",
    "  Compléter également la fonction existeArete\n",
    "\n",
    "En modifiant l'implémentation de l exemple précédant, créez le dictionnaire G correspondant au graphe ci-dessous.Les instructions données en fin de code devraient afficher le dictionnaire correct, si vos primitives ont été modifiées comme attendu.\n",
    "\n",
    "![](https://upload.wikimedia.org/wikipedia/commons/thumb/b/b2/Ungerichteter_Graph_mit_4_Knoten_und_3_Kanten.svg/220px-Ungerichteter_Graph_mit_4_Knoten_und_3_Kanten.svg.png)\n",
    "\n"
   ]
  },
  {
   "cell_type": "code",
   "execution_count": null,
   "metadata": {
    "colab": {},
    "colab_type": "code",
    "collapsed": true,
    "id": "3gCVKTmu8GNF"
   },
   "outputs": [],
   "source": [
    "def  creerGrapheVide() -> dict:\n",
    "     return {}\n",
    "def ajouterSommet(G : dict , s ) -> dict : #s peut être str ou int\n",
    "    assert s not in G.keys(),'vous ne pouvez pas ajouter un sommet déjà existant'\n",
    "    G[s]=[]\n",
    "def ajouterArete(G : dict , sd , sa ) -> dict : #sa et sd peuvent être str ou int\n",
    "    assert sd in G ,'le graphe ne contient pas le sommet de depart '\n",
    "    assert sa in G ,'le graphene contient pas le sommet d arrivee'\n",
    "    G[sd].append(sa)\n",
    "    #completer\n",
    "\n",
    "def existeSommet(G : dict , s ) -> bool:\n",
    "    return s in G\n",
    "def existeArete(G : dict , sd  , sa ) -> bool: #sd et sa peuvent être str ou int\n",
    "    return sd in G and sa in G and sa in G[sd] # completer\n",
    "\n",
    "G=creerGrapheVide()\n",
    "# complétez ici\n",
    "\n",
    "\n"
   ]
  },
  {
   "cell_type": "markdown",
   "metadata": {},
   "source": [
    "**Visualiser un graphe non orienté**  \n",
    "De même que précédemment, la bibliothèque networkx permet de visualiser un graphe non orienté."
   ]
  },
  {
   "cell_type": "code",
   "execution_count": null,
   "metadata": {
    "collapsed": true
   },
   "outputs": [],
   "source": [
    "def cree_graphe_non_oriente_nx(dictionnaire: dict) -> nx.Graph:\n",
    "    \"\"\"\n",
    "    Cette fonction premet de transformer une représentation en dictionnaire en\n",
    "    une représentation «complexe» d'un objet graphe orienté.\n",
    "\n",
    "    - Précondition : l'entrée est un dictionnaire\n",
    "    - Postcondition : la sortie est un graphe orienté (Graph) de Networkx\n",
    "    \"\"\"\n",
    "    Gnx = nx.Graph() \n",
    "    for sommets in dictionnaire.keys():\n",
    "        Gnx.add_node(sommets) # Creation des sommets\n",
    "    for sommet in dictionnaire.keys():\n",
    "        for sommets_adjacents in dictionnaire[sommet]:\n",
    "            Gnx.add_edge(sommet, sommets_adjacents) # Creation des arcs\n",
    "    return Gnx\n",
    "\n",
    "G=creerGrapheVide()\n",
    "for i in range(1,5):\n",
    "    ajouterSommet(G,i)\n",
    "ajouterArete(G,1,2)\n",
    "ajouterArete(G,2,3)\n",
    "ajouterArete(G,2,4)\n",
    "print(G)\n",
    "G1=cree_graphe_non_oriente_nx(G)\n",
    "# Pour une representation circulaire : nx.draw_circular(G,with_labels=True)\n",
    "nx.draw(G1,with_labels=True) # Pour une representation classique\n",
    "plt.show()"
   ]
  },
  {
   "cell_type": "markdown",
   "metadata": {
    "colab_type": "text",
    "id": "3TbSjZiF8Un_"
   },
   "source": [
    "**Exercice 3 : Modifier l'implémentation pour modéliser un graphe non orienté (primitives de suppression)** \n",
    "\n",
    "Vous allez compléter l'implémentation pour modéliser un graphe non orienté.\n",
    "\t\n",
    "\n",
    "  Comme dans l'exercice 2 ci-dessus, dans la version d'implémentation fournie ci-dessous, on a remplacé la primitive supprimerArc par supprimerArete, mais on a pas modifié le code de cette primitive. Vous devez le faire vous même : dans le cas d'un graphe non orienté, supprimer une arrête SD-SA revient à modifier les listes d'adjacence des deux sommets SD et SA. Le code doit donc faire le travail correctement.\n",
    "  \n",
    "  Dans cet exercice nous n'incluerons que les primitives de suppression, nous allons générer pour vous un objet graphe qui sera utilisé pour tester votre code. Vous devez coder supprimerSommet et supprimerArete et utiliser ces 2 primitives pour supprimer le sommet 'A' et l’arête 'B-C' du graphe généré par le système.\n",
    "\n",
    "Modifiez les primitives supprimerSommet et supprimerArete. Puis utilisez les pour supprimer le sommet A et l'arrête B-C du graphe suivant :\n",
    "\n",
    "**G={'A': ['B'], 'B': ['A', 'C', 'D'], 'C': ['B','D'], 'D': ['B','C']}**\n",
    "\n",
    "\n"
   ]
  },
  {
   "cell_type": "code",
   "execution_count": null,
   "metadata": {
    "colab": {},
    "colab_type": "code",
    "collapsed": true,
    "id": "hQm-aZvc9Lbc"
   },
   "outputs": [],
   "source": [
    "def existeSommet(G : dict,s) -> bool: # s peut être str ou int\n",
    "    return s in G\n",
    "\n",
    "def existeArete(G : dict ,sd,sa) -> bool : # sd et sa peuvent être str ou int\n",
    "    return sd in G and sa in G[sd] # completer\n",
    "\n",
    "def supprimerSommet(G : dict,s) -> dict : # s peut être str ou int\n",
    "    pass # remplacez cette ligne par votre implémentation (pensez aux assert)\n",
    "\n",
    "def supprimerArete(G : dict,sd,sa) -> dict : # sd et sa peuvent être str ou int\n",
    "    pass # remplacez cette ligne par votre implémentation (pensez aux assert)\n",
    "\n",
    "G={'A': ['B'], 'B': ['A', 'C', 'D'], 'C': ['B','D'], 'D': ['B','C']}\n",
    "# insérez ici les instructions pour supprimer A puis supprimer B-C\n",
    "\n",
    "\n",
    "print(str(G))\n",
    "G_nx=cree_graphe_non_oriente_nx(G)\n",
    "# Pour une representation circulaire : nx.draw_circular(G,with_labels=True)\n",
    "nx.draw(G_nx,with_labels=True) # Pour une representation classique\n",
    "plt.show()"
   ]
  },
  {
   "cell_type": "markdown",
   "metadata": {
    "colab_type": "text",
    "id": "l7fLENcD-g_r"
   },
   "source": [
    "**Exercice 4 : Modifier de nouveau l'implémentation pour modéliser un graphe pondéré non orienté** \n",
    "\n",
    "Vous allez modifier de nouveau l'implémentation pour modéliser un graphe pondéré et non orienté.\n",
    "\n",
    "En modifiant de nouveau l'implémentation du graphe, créez le dictionnaire G correspondant au graphe pondéré non orienté ci-dessous.\n",
    "\n",
    "Attention, ici vous devez modifier les primitives mais aussi les instructions pour créer le graphe attendu.\n",
    "\n",
    "Les clé resteront les sommets. La  valeur correspondant à chaque sommet ne sera plus une liste d’adjacence, mais un dictionnaires dont les clés seront les sommets d'arrivée des arêtes, et les valeurs le poids de chaque arête.  \n",
    "Par exemple: pour le graphe ci-dessous :  \n",
    "G1 = {1: {2: 1, 5: 5}, 2: {1: 1, 5: 6, 3: 2}, 3: {2: 2, 4: 3}, 4: {5: 4, 3: 3}, 5: {1: 5, 2: 6, 4: 4}}.  \n",
    "<img src=\"graphe_non_or_pond.png\" width=\"200\" height=\"200\" />\n",
    "\n",
    "Il faut donc modifier :  \n",
    "- `ajouterSommet` (la valeur de la clé s doit être un dictionnaire)   \n",
    "- `ajouterArete` (pour ajouter un dictionnaire, et non plus une liste). \n",
    "- `supprimerArete` devra aussi être modifiée pour tenir comte de la structure différente."
   ]
  },
  {
   "cell_type": "code",
   "execution_count": null,
   "metadata": {
    "collapsed": true
   },
   "outputs": [],
   "source": [
    "def  creerGrapheVide() -> dict:\n",
    "    return {}\n",
    "def estVideGraphe(G: dict) -> bool:\n",
    "    return G=={}\n",
    "def ajouterSommet(G : dict,s) : # s est str ou int\n",
    "    pass\n",
    "def ajouterArete(G : dict , sd , sa, pds) -> dict :  # sd et sa sont str ou int\n",
    "    pass\n",
    "def supprimerSommet(G : dict , s ) : # s est str ou int\n",
    "    pass\n",
    "def supprimerArete(G : dict , sd , sa) -> dict :  # sd et sa sont str ou int \n",
    "    pass\n",
    "def existeSommet(G : dict , s ) -> bool:  # s est str ou int\n",
    "    return s in G\n",
    "def existeArete(G : dict , sd , sa ) -> bool :  # sd et sa sont str ou int\n",
    "    return sd in G and sa in G[sd]\n",
    "\n",
    "# Completez également les instructions ci-dessous :\n",
    "G=creerGrapheVide()\n",
    "\n",
    "\n",
    "print(G)"
   ]
  },
  {
   "cell_type": "markdown",
   "metadata": {},
   "source": [
    "***Une part importante de ce document est initialement produite par David Roche, visible sur son site : Pixees publié sous licence CC BY SA  \n",
    "Jean-Louis THIROT et Mireille COILHAC  \n",
    "Ce document est sous licence Creative Commons  Attribution - Pas d’Utilisation Commerciale - \n",
    "Partage dans les Mêmes Conditions 4.0 International.***\n"
   ]
  }
 ],
 "metadata": {
  "colab": {
   "authorship_tag": "ABX9TyOz2rkm7TmUTLQeTaYq/DFI",
   "name": "LesGraphes.ipynb",
   "provenance": [],
   "toc_visible": true
  },
  "kernelspec": {
   "display_name": "Python 3",
   "language": "python",
   "name": "python3"
  },
  "language_info": {
   "codemirror_mode": {
    "name": "ipython",
    "version": 3
   },
   "file_extension": ".py",
   "mimetype": "text/x-python",
   "name": "python",
   "nbconvert_exporter": "python",
   "pygments_lexer": "ipython3",
   "version": "3.4.5"
  }
 },
 "nbformat": 4,
 "nbformat_minor": 1
}
