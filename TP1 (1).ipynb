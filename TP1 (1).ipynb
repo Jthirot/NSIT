{
 "cells": [
  {
   "cell_type": "markdown",
   "metadata": {},
   "source": [
    "   # TP Graphes : modéliser un labyrinthe\n",
    "   adaptation d'un TP publié sur : https://www.di.ens.fr/~mauborgn/td-99/programmation/tp8.html\n",
    "   "
   ]
  },
  {
   "cell_type": "markdown",
   "metadata": {},
   "source": [
    "Considérons le problème suivant :\n",
    "\n",
    "rechercher le chemin le plus long entre deux stations dans le métro. Indépendamment de l'aspect ludique, c'est en fait un problème difficile qu'on aurait bien du mal à résoudre de façon raisonnable sur un gros graphe comme celui du métro. \n",
    "Pour simplifier, nous allons donc considérer des labyrinthes.\n",
    "\n",
    "## Les labyrinthes\n",
    "\n",
    "Voici l'image d'un labyrinthe :\n",
    "<img src=\"https://www.di.ens.fr/~mauborgn/td-99/programmation/petitlab.gif\">"
   ]
  },
  {
   "cell_type": "markdown",
   "metadata": {},
   "source": [
    "Ce labyrinthe correspond au graphe suivant :\n",
    "<img src=\"https://www.di.ens.fr/~mauborgn/td-99/programmation/petit.gif\">\n",
    "\n",
    "Implémentez ce labyrinthe avec un graphe.\n",
    "Vous utiliserez l'implémentation de graphe fournie ci-dessous, vous nommerez les sommet (1,1) (1,2) .. etc \n",
    "\n",
    "Les arrêtes relient les cases voisines quand le passage est possible. Si une paroie empêche de passer on ne met pas l'arrête. Par exemple il n'y a pas d'arrête entre les sommets (1,1) et (1,2) mais il y en a une entre (1,1) et (2,1)."
   ]
  },
  {
   "cell_type": "code",
   "execution_count": 3,
   "metadata": {},
   "outputs": [
    {
     "name": "stdout",
     "output_type": "stream",
     "text": [
      "[(2, 1)]\n"
     ]
    }
   ],
   "source": [
    "class graph() :\n",
    "    def __init__(self) :\n",
    "        self.lstAdj={}\n",
    "    def __str__(self):\n",
    "        return str(self.lstAdj)\n",
    "    def addSommet(self,sommet):\n",
    "        self.lstAdj[sommet]=[]\n",
    "    def addArrete(self,sa,sb) :\n",
    "        self.lstAdj[sa].append(sb)\n",
    "        self.lstAdj[sb].append(sa)\n",
    "        \n",
    "# ajoutez ici les instruction pour crée le graphe labyrinthe\n",
    "labyrinthe=graph()\n",
    "for i in range(1,5):\n",
    "    for j in range(1,9):\n",
    "        labyrinthe.addSommet( (i,j) )\n",
    "labyrinthe.addArrete((1,1),(2,1))\n",
    "labyrinthe.addArrete((2,1),(2,2))\n",
    "labyrinthe.addArrete((2,2),(2,3))\n",
    "labyrinthe.addArrete((2,2),(3,2))\n",
    "labyrinthe.addArrete((2,3),(1,3))\n",
    "labyrinthe.addArrete((1,3),(1,4))\n",
    "labyrinthe.addArrete((1,4),(1,5))\n",
    "labyrinthe.addArrete((1,4),(2,4))\n",
    "labyrinthe.addArrete((1,5),(2,5))\n",
    "labyrinthe.addArrete((2,4),(3,4))\n",
    "labyrinthe.addArrete((2,5),(2,6))\n",
    "labyrinthe.addArrete((2,6),(1,6))\n",
    "labyrinthe.addArrete((2,6),(3,6))\n",
    "labyrinthe.addArrete((2,7),(3,7))\n",
    "labyrinthe.addArrete((1,6),(1,7))\n",
    "labyrinthe.addArrete((2,6),(2,7))\n",
    "labyrinthe.addArrete((1,7),(1,8))\n",
    "labyrinthe.addArrete((1,8),(2,8))\n",
    "labyrinthe.addArrete((1,2),(3,2))\n",
    "labyrinthe.addArrete((3,2),(4,2))\n",
    "labyrinthe.addArrete((4,2),(4,3))\n",
    "labyrinthe.addArrete((4,3),(4,4))\n",
    "labyrinthe.addArrete((3,4),(3,5))\n",
    "labyrinthe.addArrete((3,5),(3,6))\n",
    "labyrinthe.addArrete((3,6),(4,6))\n",
    "labyrinthe.addArrete((3,6),(3,7))\n",
    "labyrinthe.addArrete((4,6),(4,5))\n",
    "labyrinthe.addArrete((3,7),(4,7))\n",
    "labyrinthe.addArrete((4,7),(4,8))\n",
    "labyrinthe.addArrete((4,8),(3,8))\n",
    "labyrinthe.addArrete((2,8),(3,8))\n",
    "\n",
    "\n",
    "\n",
    "\n",
    "\n",
    "\n",
    "\n",
    "print(labyrinthe.lstAdj[(1,1)])"
   ]
  },
  {
   "cell_type": "markdown",
   "metadata": {},
   "source": [
    "# dessin de votre labyrinthe\n",
    "Pour voir le labyrinthe que vous avez créé, vous allez avoir besoin des fonction ci-dessous.\n",
    "Vpus n'avez pas besoin de les regarder, la seule chose donc vous avez besoin c'est de déssiner avec showLabyrinthe(cote,nli,ncol) ou :\n",
    "cote est un entier qui code la longuer des coté des case (mettez 50)\n",
    "nli et ncol sont les nombres de lignes et colones de votre labyrinthe, donc ici 4 et 8"
   ]
  },
  {
   "cell_type": "code",
   "execution_count": 18,
   "metadata": {},
   "outputs": [],
   "source": [
    "import turtle as t\n",
    "\n",
    "def showLabyrinthe(labyrinthe,cote,nli,ncol):\n",
    "  lab=t.Turtle()\n",
    "  t.speed(0)\n",
    "  cadre(nli,ncol,cote)\n",
    "  paroiesVerticales(nli,ncol,cote)\n",
    "  paroiesHorizontales(nli,ncol,cote)\n",
    "  t.exitonclick()\n",
    "  t.mainloop()\n",
    "\n",
    "\n",
    "def cadre(nli,ncol,cote):\n",
    "    t.up()\n",
    "    t.goto(-100,100)\n",
    "    t.down()\n",
    "    #dessin parois extérieures\n",
    "\n",
    "    for _ in range(2):\n",
    "        for i in range(ncol):\n",
    "            t.forward(cote)\n",
    "        t.right(90)\n",
    "        for i in range(nli):\n",
    "            t.forward(cote)\n",
    "        t.right(90)\n",
    "\n",
    "def drawCircle(cote,i,j) :\n",
    "    t.forward(cote/2)\n",
    "    t.left(90)\n",
    "    t.forward(cote/4)\n",
    "    t.right(90)\n",
    "    t.down()\n",
    "    t.circle(cote/4)\n",
    "    t.left(90)\n",
    "    t.forward(5)\n",
    "    t.write(str(i)+','+str(j+1),align='center')\n",
    "    t.backward(5)\n",
    "    t.right(90)\n",
    "    if (i+1,j+1) in labyrinthe.lstAdj[(i,j+1)] :\n",
    "        t.pencolor(\"red\")\n",
    "        t.right(90)\n",
    "        t.forward(cote/2)\n",
    "        t.backward(cote/2)\n",
    "        t.left(90)\n",
    "        t.pencolor(\"black\")\n",
    "        print(i,j)\n",
    "    t.up()\n",
    "    t.left(90)\n",
    "    t.backward(cote/4)\n",
    "    t.right(90)\n",
    "    t.backward(cote/2)\n",
    "    \n",
    "def paroiesVerticales(nli,ncol,dist):\n",
    "    # dessin des parois internes verticales\n",
    "\n",
    "    for i in range(1,nli+1):\n",
    "        for j in range(1,ncol) :\n",
    "            dess=(i,j+1) not in labyrinthe.lstAdj[(i,j)]\n",
    "            if dess :\n",
    "                t.up()\n",
    "                t.forward(dist)\n",
    "                t.down()\n",
    "                t.right(90)\n",
    "                t.forward(dist)\n",
    "                t.backward(dist)\n",
    "                t.left(90)\n",
    "            else :\n",
    "                t.up()\n",
    "                t.forward(dist)\n",
    "\n",
    "        t.up()\n",
    "        t.goto(-100,100)\n",
    "        t.right(90)\n",
    "        t.forward(dist*i)\n",
    "        t.left(90)\n",
    "        \n",
    "def paroiesHorizontales(nli,ncol,cote):\n",
    "\n",
    "    # dessin des parois internes horizontales\n",
    "    t.up()\n",
    "    t.goto(-100,100-cote)\n",
    "    for i in range(1,nli):\n",
    "        for j in range(1,ncol) :\n",
    "            \n",
    "            dess=(i+1,j) not in labyrinthe.lstAdj[(i,j)]\n",
    "            if dess :\n",
    "                t.down()\n",
    "                t.forward(cote)\n",
    "                t.up()\n",
    "            else :\n",
    "                t.up()\n",
    "                t.forward(cote)\n",
    "        t.up()\n",
    "        t.goto(-100,100-cote*(i+1))\n",
    "\n"
   ]
  },
  {
   "cell_type": "code",
   "execution_count": 19,
   "metadata": {},
   "outputs": [
    {
     "ename": "Terminator",
     "evalue": "",
     "output_type": "error",
     "traceback": [
      "\u001b[1;31m---------------------------------------------------------------------------\u001b[0m",
      "\u001b[1;31mTerminator\u001b[0m                                Traceback (most recent call last)",
      "\u001b[1;32m<ipython-input-19-7b1e77189410>\u001b[0m in \u001b[0;36m<module>\u001b[1;34m()\u001b[0m\n\u001b[1;32m----> 1\u001b[1;33m \u001b[0mshowLabyrinthe\u001b[0m\u001b[1;33m(\u001b[0m\u001b[0mlabyrinthe\u001b[0m\u001b[1;33m,\u001b[0m\u001b[1;36m50\u001b[0m\u001b[1;33m,\u001b[0m\u001b[1;36m4\u001b[0m\u001b[1;33m,\u001b[0m\u001b[1;36m8\u001b[0m\u001b[1;33m)\u001b[0m\u001b[1;33m\u001b[0m\u001b[0m\n\u001b[0m\u001b[0;32m      2\u001b[0m \u001b[1;31m#le dessin va s'ouvrir dans une fenêtre\u001b[0m\u001b[1;33m\u001b[0m\u001b[1;33m\u001b[0m\u001b[0m\n\u001b[0;32m      3\u001b[0m \u001b[1;31m######### ATTENTION ##############\u001b[0m\u001b[1;33m\u001b[0m\u001b[1;33m\u001b[0m\u001b[0m\n\u001b[0;32m      4\u001b[0m \u001b[1;31m# avant de poursuivre vous devez cliquer dans la fenêtre, cela va la fermer\u001b[0m\u001b[1;33m\u001b[0m\u001b[1;33m\u001b[0m\u001b[0m\n\u001b[0;32m      5\u001b[0m \u001b[1;31m# vous obtiendrez un message d'erreur ci-dessous que vous pouvez ignorer\u001b[0m\u001b[1;33m\u001b[0m\u001b[1;33m\u001b[0m\u001b[0m\n",
      "\u001b[1;32m<ipython-input-18-29cfc5d3d7ad>\u001b[0m in \u001b[0;36mshowLabyrinthe\u001b[1;34m(labyrinthe, cote, nli, ncol)\u001b[0m\n\u001b[0;32m      8\u001b[0m   \u001b[0mparoiesHorizontales\u001b[0m\u001b[1;33m(\u001b[0m\u001b[0mnli\u001b[0m\u001b[1;33m,\u001b[0m\u001b[0mncol\u001b[0m\u001b[1;33m,\u001b[0m\u001b[0mcote\u001b[0m\u001b[1;33m)\u001b[0m\u001b[1;33m\u001b[0m\u001b[0m\n\u001b[0;32m      9\u001b[0m   \u001b[0mt\u001b[0m\u001b[1;33m.\u001b[0m\u001b[0mexitonclick\u001b[0m\u001b[1;33m(\u001b[0m\u001b[1;33m)\u001b[0m\u001b[1;33m\u001b[0m\u001b[0m\n\u001b[1;32m---> 10\u001b[1;33m   \u001b[0mt\u001b[0m\u001b[1;33m.\u001b[0m\u001b[0mmainloop\u001b[0m\u001b[1;33m(\u001b[0m\u001b[1;33m)\u001b[0m\u001b[1;33m\u001b[0m\u001b[0m\n\u001b[0m\u001b[0;32m     11\u001b[0m \u001b[1;33m\u001b[0m\u001b[0m\n\u001b[0;32m     12\u001b[0m \u001b[1;33m\u001b[0m\u001b[0m\n",
      "\u001b[1;32mC:\\EduPython\\App\\lib\\turtle.py\u001b[0m in \u001b[0;36mmainloop\u001b[1;34m()\u001b[0m\n",
      "\u001b[1;31mTerminator\u001b[0m: "
     ]
    }
   ],
   "source": [
    "showLabyrinthe(labyrinthe,50,4,8)\n",
    "#le dessin va s'ouvrir dans une fenêtre\n",
    "######### ATTENTION ##############\n",
    "# avant de poursuivre vous devez cliquer dans la fenêtre, cela va la fermer\n",
    "# vous obtiendrez un message d'erreur ci-dessous que vous pouvez ignorer\n",
    "# vous pouvez relancer le dessin après correction de votre graphe si besoin"
   ]
  },
  {
   "cell_type": "code",
   "execution_count": 17,
   "metadata": {},
   "outputs": [
    {
     "ename": "Terminator",
     "evalue": "",
     "output_type": "error",
     "traceback": [
      "\u001b[1;31m---------------------------------------------------------------------------\u001b[0m",
      "\u001b[1;31mTerminator\u001b[0m                                Traceback (most recent call last)",
      "\u001b[1;32m<ipython-input-17-f70e8b8d2e82>\u001b[0m in \u001b[0;36m<module>\u001b[1;34m()\u001b[0m\n\u001b[0;32m     66\u001b[0m         \u001b[0mt\u001b[0m\u001b[1;33m.\u001b[0m\u001b[0mpencolor\u001b[0m\u001b[1;33m(\u001b[0m\u001b[1;34m\"black\"\u001b[0m\u001b[1;33m)\u001b[0m\u001b[1;33m\u001b[0m\u001b[0m\n\u001b[0;32m     67\u001b[0m \u001b[1;33m\u001b[0m\u001b[0m\n\u001b[1;32m---> 68\u001b[1;33m \u001b[0mdrawGraph\u001b[0m\u001b[1;33m(\u001b[0m\u001b[1;33m)\u001b[0m\u001b[1;33m\u001b[0m\u001b[0m\n\u001b[0m",
      "\u001b[1;32m<ipython-input-17-f70e8b8d2e82>\u001b[0m in \u001b[0;36mdrawGraph\u001b[1;34m()\u001b[0m\n\u001b[0;32m     16\u001b[0m         \u001b[0mt\u001b[0m\u001b[1;33m.\u001b[0m\u001b[0mbackward\u001b[0m\u001b[1;33m(\u001b[0m\u001b[1;36m50\u001b[0m\u001b[1;33m*\u001b[0m\u001b[1;36m8\u001b[0m\u001b[1;33m)\u001b[0m\u001b[1;33m\u001b[0m\u001b[0m\n\u001b[0;32m     17\u001b[0m     \u001b[0mt\u001b[0m\u001b[1;33m.\u001b[0m\u001b[0mexitonclick\u001b[0m\u001b[1;33m(\u001b[0m\u001b[1;33m)\u001b[0m\u001b[1;33m\u001b[0m\u001b[0m\n\u001b[1;32m---> 18\u001b[1;33m     \u001b[0mt\u001b[0m\u001b[1;33m.\u001b[0m\u001b[0mmainloop\u001b[0m\u001b[1;33m(\u001b[0m\u001b[1;33m)\u001b[0m\u001b[1;33m\u001b[0m\u001b[0m\n\u001b[0m\u001b[0;32m     19\u001b[0m \u001b[1;33m\u001b[0m\u001b[0m\n\u001b[0;32m     20\u001b[0m \u001b[1;32mdef\u001b[0m \u001b[0mdrawCircle\u001b[0m\u001b[1;33m(\u001b[0m\u001b[0mcote\u001b[0m\u001b[1;33m,\u001b[0m\u001b[0mi\u001b[0m\u001b[1;33m,\u001b[0m\u001b[0mj\u001b[0m\u001b[1;33m)\u001b[0m \u001b[1;33m:\u001b[0m\u001b[1;33m\u001b[0m\u001b[0m\n",
      "\u001b[1;32mC:\\EduPython\\App\\lib\\turtle.py\u001b[0m in \u001b[0;36mmainloop\u001b[1;34m()\u001b[0m\n",
      "\u001b[1;31mTerminator\u001b[0m: "
     ]
    }
   ],
   "source": [
    "import turtle as t\n",
    "\n",
    "def drawGraph() :\n",
    "    lab=t.Turtle()\n",
    "    t.speed(0)\n",
    "    t.up()\n",
    "    t.ht()\n",
    "    t.goto(-100,100)\n",
    "    for i in range(1,5) :\n",
    "        for j in range(1,9) :\n",
    "            drawCircle(50,i,j)\n",
    "            t.forward(50)\n",
    "        t.right(90)\n",
    "        t.forward(50)\n",
    "        t.left(90)\n",
    "        t.backward(50*8)\n",
    "    t.exitonclick()\n",
    "    t.mainloop()\n",
    "            \n",
    "def drawCircle(cote,i,j) :\n",
    "    t.up()\n",
    "    t.forward(cote/2)\n",
    "    t.left(90)\n",
    "    t.forward(cote/4)\n",
    "    t.right(90)\n",
    "    t.down()\n",
    "    t.circle(cote/4)\n",
    "    t.left(90)\n",
    "    t.forward(5)\n",
    "    t.write(str(i)+','+str(j),align='center')\n",
    "    t.backward(5)\n",
    "    t.right(90)\n",
    "    if (i+1,j) in labyrinthe.lstAdj[(i,j)] :\n",
    "        drawArreteVert(50)\n",
    "    if (i,j+1) in labyrinthe.lstAdj[(i,j)] :\n",
    "        drawArreteHor(50)\n",
    "    t.up()\n",
    "    t.left(90)\n",
    "    t.backward(cote/4)\n",
    "    t.right(90)\n",
    "    t.backward(cote/2)\n",
    "\n",
    "def drawArreteHor(cote):\n",
    "    t.up()\n",
    "    t.pencolor(\"red\")\n",
    "    t.forward(cote/4)\n",
    "    t.left(90)\n",
    "    t.forward(cote/4)\n",
    "    t.right(90)\n",
    "    t.down()\n",
    "    t.forward(cote/2)\n",
    "    t.up()\n",
    "    t.backward(cote/2)\n",
    "    t.left(90)\n",
    "    t.backward(cote/4)\n",
    "    t.right(90)\n",
    "    t.backward(cote/4)\n",
    "    t.pencolor(\"black\")\n",
    "    \n",
    "def drawArreteVert(cote):\n",
    "        t.pencolor(\"red\")\n",
    "        t.right(90)\n",
    "        t.forward(cote/2)\n",
    "        t.backward(cote/2)\n",
    "        t.left(90)\n",
    "        t.pencolor(\"black\")\n",
    "        \n"
   ]
  },
  {
   "cell_type": "code",
   "execution_count": null,
   "metadata": {
    "collapsed": true
   },
   "outputs": [],
   "source": [
    "drawGraph()"
   ]
  },
  {
   "cell_type": "code",
   "execution_count": null,
   "metadata": {
    "collapsed": true
   },
   "outputs": [],
   "source": []
  },
  {
   "cell_type": "code",
   "execution_count": 16,
   "metadata": {},
   "outputs": [
    {
     "data": {
      "text/plain": [
       "[(4, 8), (2, 8)]"
      ]
     },
     "execution_count": 16,
     "metadata": {},
     "output_type": "execute_result"
    }
   ],
   "source": [
    "labyrinthe.lstAdj[(2,8)]\n",
    "labyrinthe.lstAdj[(3,8)]\n"
   ]
  },
  {
   "cell_type": "markdown",
   "metadata": {},
   "source": [
    "<center><font color=\"red\" size=\"12\">questions</font></center>"
   ]
  },
  {
   "cell_type": "markdown",
   "metadata": {},
   "source": [
    "<b>1) Faites afficher les case ou je peux me rendre si je suis en (3,4)</b>"
   ]
  },
  {
   "cell_type": "code",
   "execution_count": 4,
   "metadata": {},
   "outputs": [
    {
     "name": "stdout",
     "output_type": "stream",
     "text": [
      "[(3, 5)]\n"
     ]
    }
   ],
   "source": []
  },
  {
   "cell_type": "markdown",
   "metadata": {},
   "source": [
    "<b>2) Ecrire une fonction passage(case1,case2) qui renvoie True si on peut passer de case1 à case2 et False sinon\n",
    "</b>\n",
    "La fonction doit vérifier que les 2 case sont contigues et qu'il n'y a pas de paroie empêchant le passage"
   ]
  },
  {
   "cell_type": "code",
   "execution_count": 9,
   "metadata": {
    "collapsed": true
   },
   "outputs": [],
   "source": [
    "def passage(case1,case2) :\n",
    "   pass"
   ]
  },
  {
   "cell_type": "code",
   "execution_count": 8,
   "metadata": {},
   "outputs": [
    {
     "name": "stdout",
     "output_type": "stream",
     "text": [
      "test ok True\n"
     ]
    }
   ],
   "source": [
    "#tests :\n",
    "ok=True\n",
    "if passage( (1,2),(2,2))==True : ok=False\n",
    "if passage( (2,2),(3,2))==False : ok=False\n",
    "if passage( (2,2),(3,3))==True : ok=False\n",
    "if passage( (2,2),(2,2))==True : ok=False\n",
    "if passage( (2,2),(1,1))==True : ok=False\n",
    "if passage( (2,3),(2,5))==True : ok=False\n",
    "\n",
    "print('test ok',ok)"
   ]
  },
  {
   "cell_type": "code",
   "execution_count": null,
   "metadata": {
    "collapsed": true
   },
   "outputs": [],
   "source": []
  }
 ],
 "metadata": {
  "celltoolbar": "Edit Metadata",
  "kernelspec": {
   "display_name": "Python 3",
   "language": "python",
   "name": "python3"
  },
  "language_info": {
   "codemirror_mode": {
    "name": "ipython",
    "version": 3
   },
   "file_extension": ".py",
   "mimetype": "text/x-python",
   "name": "python",
   "nbconvert_exporter": "python",
   "pygments_lexer": "ipython3",
   "version": "3.4.5"
  }
 },
 "nbformat": 4,
 "nbformat_minor": 2
}
