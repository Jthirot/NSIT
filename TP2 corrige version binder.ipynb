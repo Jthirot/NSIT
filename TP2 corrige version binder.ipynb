{
 "cells": [
  {
   "cell_type": "markdown",
   "metadata": {},
   "source": [
    "   # TP Graphes : modéliser un labyrinthe\n",
    "   adaptation d'un TP publié sur : https://www.di.ens.fr/~mauborgn/td-99/programmation/tp8.html\n",
    "   "
   ]
  },
  {
   "cell_type": "markdown",
   "metadata": {},
   "source": [
    "Considérons le problème suivant :\n",
    "\n",
    "rechercher le chemin le plus long entre deux stations dans le métro. Indépendamment de l'aspect ludique, c'est en fait un problème difficile qu'on aurait bien du mal à résoudre de façon raisonnable sur un gros graphe comme celui du métro. \n",
    "Pour simplifier, nous allons donc considérer des labyrinthes.\n",
    "\n",
    "## Les labyrinthes\n",
    "\n",
    "Voici l'image d'un labyrinthe :\n",
    "<img src=\"https://www.di.ens.fr/~mauborgn/td-99/programmation/petitlab.gif\">"
   ]
  },
  {
   "cell_type": "markdown",
   "metadata": {},
   "source": [
    "Ce labyrinthe correspond au graphe suivant :\n",
    "<img src=\"https://www.di.ens.fr/~mauborgn/td-99/programmation/petit.gif\">\n",
    "\n",
    "Dans un premier TP vous avez déjà implémentez ce labyrinthe avec un graphe.\n",
    "Nous redonnons ici l'implémentation de ce graphe là ou nous en étions arrivés."
   ]
  },
  {
   "cell_type": "code",
   "execution_count": 3,
   "metadata": {},
   "outputs": [
    {
     "name": "stdout",
     "output_type": "stream",
     "text": [
      "[(2, 1)]\n"
     ]
    }
   ],
   "source": [
    "class graph() :\n",
    "    def __init__(self) :\n",
    "        self.lstAdj={}\n",
    "    def __str__(self):\n",
    "        return str(self.lstAdj)\n",
    "    def addSommet(self,sommet):\n",
    "        self.lstAdj[sommet]=[]\n",
    "    def addArrete(self,sa,sb) :\n",
    "        self.lstAdj[sa].append(sb)\n",
    "        self.lstAdj[sb].append(sa)\n",
    "        \n",
    "labyrinthe=graph()\n",
    "for i in range(1,5):\n",
    "    for j in range(1,9):\n",
    "        labyrinthe.addSommet( (i,j) )\n",
    "labyrinthe.addArrete((1,1),(2,1))\n",
    "labyrinthe.addArrete((2,1),(2,2))\n",
    "labyrinthe.addArrete((2,2),(2,3))\n",
    "labyrinthe.addArrete((2,2),(3,2))\n",
    "labyrinthe.addArrete((2,3),(1,3))\n",
    "labyrinthe.addArrete((1,3),(1,4))\n",
    "labyrinthe.addArrete((1,4),(1,5))\n",
    "labyrinthe.addArrete((1,4),(2,4))\n",
    "labyrinthe.addArrete((1,5),(2,5))\n",
    "labyrinthe.addArrete((2,4),(3,4))\n",
    "labyrinthe.addArrete((2,5),(2,6))\n",
    "labyrinthe.addArrete((2,6),(1,6))\n",
    "labyrinthe.addArrete((2,6),(3,6))\n",
    "labyrinthe.addArrete((2,7),(3,7))\n",
    "labyrinthe.addArrete((1,6),(1,7))\n",
    "labyrinthe.addArrete((2,6),(2,7))\n",
    "labyrinthe.addArrete((1,7),(1,8))\n",
    "labyrinthe.addArrete((1,8),(2,8))\n",
    "labyrinthe.addArrete((3,2),(4,2))\n",
    "labyrinthe.addArrete((4,2),(4,3))\n",
    "labyrinthe.addArrete((4,3),(4,4))\n",
    "labyrinthe.addArrete((3,4),(3,5))\n",
    "labyrinthe.addArrete((3,5),(3,6))\n",
    "labyrinthe.addArrete((3,6),(4,6))\n",
    "labyrinthe.addArrete((3,6),(3,7))\n",
    "labyrinthe.addArrete((4,6),(4,5))\n",
    "labyrinthe.addArrete((3,7),(4,7))\n",
    "labyrinthe.addArrete((4,7),(4,8))\n",
    "labyrinthe.addArrete((4,8),(3,8))\n",
    "\n",
    "\n",
    "\n",
    "\n",
    "\n",
    "#print(str(labyrinthe))\n",
    "print(labyrinthe.lstAdj[(1,1)])"
   ]
  },
  {
   "cell_type": "markdown",
   "metadata": {},
   "source": [
    "# dessin de votre labyrinthe\n",
    "Pour voir le labyrinthe que vous avez créé, vous allez avoir besoin des fonction ci-dessous.\n",
    "Vous n'avez pas besoin de les regarder, la seule chose donc vous avez besoin c'est de dessiner avec showLabyrinthe(cote,nli,ncol) ou :\n",
    "cote est un entier qui code la longuer des coté des case (mettez 50)\n",
    "nli et ncol sont les nombres de lignes et colones de votre labyrinthe, donc ici 4 et 8"
   ]
  },
  {
   "cell_type": "code",
   "execution_count": 9,
   "metadata": {
    "collapsed": true
   },
   "outputs": [],
   "source": [
    "import turtle as t\n",
    "\n",
    "def showLabyrinthe(labyrinthe,cote,nli,ncol):\n",
    "  lab=t.Turtle()\n",
    "  t.speed(0)\n",
    "\n",
    "  cadre(nli,ncol,cote)\n",
    "  paroiesVerticales(nli,ncol,cote)\n",
    "  paroiesHorizontales(nli,ncol,cote)\n",
    "\n",
    "\n",
    "def cadre(nli,ncol,cote):\n",
    "    t.up()\n",
    "    t.goto(-100,100)\n",
    "    t.down()\n",
    "    #dessin parois extérieures\n",
    "\n",
    "    for _ in range(2):\n",
    "        for i in range(ncol):\n",
    "            t.forward(cote)\n",
    "        t.right(90)\n",
    "        for i in range(nli):\n",
    "            t.forward(cote)\n",
    "        t.right(90)\n",
    "\n",
    "def paroiesVerticales(nli,ncol,dist):\n",
    "    # dessin des parois internes verticales\n",
    "\n",
    "    for i in range(1,nli+1):\n",
    "        for j in range(1,ncol) :\n",
    "            dess=(i,j+1) not in labyrinthe.lstAdj[(i,j)]\n",
    "            if dess :\n",
    "                t.up()\n",
    "                t.forward(dist)\n",
    "                t.down()\n",
    "                t.right(90)\n",
    "                t.forward(dist)\n",
    "                t.backward(dist)\n",
    "                t.left(90)\n",
    "            else :\n",
    "                t.up()\n",
    "                t.forward(dist)\n",
    "\n",
    "        t.up()\n",
    "        t.goto(-100,100)\n",
    "        t.right(90)\n",
    "        t.forward(dist*i)\n",
    "        t.left(90)\n",
    "def paroiesHorizontales(nli,ncol,cote):\n",
    "\n",
    "    # dessin des parois internes horizontales\n",
    "    t.up()\n",
    "    t.goto(-100,100-cote)\n",
    "    for i in range(1,nli):\n",
    "        for j in range(1,ncol) :\n",
    "            dess=(i+1,j) not in labyrinthe.lstAdj[(i,j)]\n",
    "            if dess :\n",
    "                t.down()\n",
    "                t.forward(cote)\n",
    "            else :\n",
    "                t.up()\n",
    "                t.forward(cote)\n",
    "\n",
    "        t.up()\n",
    "        t.goto(-100,100-cote*(i+1))\n"
   ]
  },
  {
   "cell_type": "code",
   "execution_count": 10,
   "metadata": {},
   "outputs": [
    {
     "ename": "Terminator",
     "evalue": "",
     "output_type": "error",
     "traceback": [
      "\u001b[1;31m---------------------------------------------------------------------------\u001b[0m",
      "\u001b[1;31mTerminator\u001b[0m                                Traceback (most recent call last)",
      "\u001b[1;32m<ipython-input-10-65c49ba96a16>\u001b[0m in \u001b[0;36m<module>\u001b[1;34m()\u001b[0m\n\u001b[0;32m      1\u001b[0m \u001b[0mshowLabyrinthe\u001b[0m\u001b[1;33m(\u001b[0m\u001b[0mlabyrinthe\u001b[0m\u001b[1;33m,\u001b[0m\u001b[1;36m50\u001b[0m\u001b[1;33m,\u001b[0m\u001b[1;36m4\u001b[0m\u001b[1;33m,\u001b[0m\u001b[1;36m8\u001b[0m\u001b[1;33m)\u001b[0m\u001b[1;33m\u001b[0m\u001b[0m\n\u001b[0;32m      2\u001b[0m \u001b[0mt\u001b[0m\u001b[1;33m.\u001b[0m\u001b[0mexitonclick\u001b[0m\u001b[1;33m(\u001b[0m\u001b[1;33m)\u001b[0m\u001b[1;33m\u001b[0m\u001b[0m\n\u001b[1;32m----> 3\u001b[1;33m \u001b[0mt\u001b[0m\u001b[1;33m.\u001b[0m\u001b[0mmainloop\u001b[0m\u001b[1;33m(\u001b[0m\u001b[1;33m)\u001b[0m\u001b[1;33m\u001b[0m\u001b[0m\n\u001b[0m\u001b[0;32m      4\u001b[0m \u001b[1;33m\u001b[0m\u001b[0m\n\u001b[0;32m      5\u001b[0m \u001b[1;31m#le dessin va s'ouvrir dans une fenêtre\u001b[0m\u001b[1;33m\u001b[0m\u001b[1;33m\u001b[0m\u001b[0m\n",
      "\u001b[1;32mC:\\EduPython\\App\\lib\\turtle.py\u001b[0m in \u001b[0;36mmainloop\u001b[1;34m()\u001b[0m\n",
      "\u001b[1;31mTerminator\u001b[0m: "
     ]
    }
   ],
   "source": [
    "showLabyrinthe(labyrinthe,50,4,8)\n",
    "t.exitonclick()\n",
    "t.mainloop()\n",
    "\n",
    "#le dessin va s'ouvrir dans une fenêtre\n",
    "######### ATTENTION ##############\n",
    "# avant de poursuivre vous devez cliquer dans la fenêtre, cela va la fermer\n",
    "# vous obtiendrez un message d'erreur ci-dessous que vous pouvez ignorer\n",
    "# vous pouvez relancer le dessin après correction de votre graphe si besoin"
   ]
  },
  {
   "cell_type": "markdown",
   "metadata": {
    "collapsed": true
   },
   "source": [
    "<center><font color=\"red\" size=\"12\">DEUXIEME PARTIE : </font><br><br>\n",
    "<b>PROMENADE DANS LE LABYRINTHE</b></center>"
   ]
  },
  {
   "cell_type": "markdown",
   "metadata": {},
   "source": [
    "<b>1) commencez par implémenter les deux parcours BFS et DFS, en partant de la case (1,1)</b>"
   ]
  },
  {
   "cell_type": "code",
   "execution_count": 11,
   "metadata": {},
   "outputs": [
    {
     "name": "stdout",
     "output_type": "stream",
     "text": [
      "[(2, 1)]\n",
      "[(1, 1), (2, 1), (2, 2), (2, 3), (3, 2), (1, 3), (4, 2), (1, 4), (4, 3), (1, 5), (2, 4), (4, 4), (2, 5), (3, 4), (2, 6), (3, 5), (1, 6), (3, 6), (2, 7), (1, 7), (4, 6), (3, 7), (1, 8), (4, 5), (4, 7), (2, 8), (4, 8), (3, 8)]\n"
     ]
    }
   ],
   "source": [
    "# BFS\n",
    "sommet=(1,1)\n",
    "vus=[sommet]\n",
    "aVoir=labyrinthe.lstAdj[(1,1)][:]\n",
    "print(aVoir)\n",
    "while aVoir != [] :\n",
    "    sommet=aVoir.pop(0)\n",
    "    vus.append(sommet)\n",
    "    voisins=labyrinthe.lstAdj[sommet]\n",
    "    for s in voisins :\n",
    "        if s not in vus and s not in aVoir :\n",
    "            aVoir.append(s)\n",
    "print(vus)\n",
    "\n",
    "    "
   ]
  },
  {
   "cell_type": "markdown",
   "metadata": {},
   "source": [
    "La fonction ci-dessous va vous permettre de visualiser les sommets visités :"
   ]
  },
  {
   "cell_type": "code",
   "execution_count": 12,
   "metadata": {
    "collapsed": true,
    "scrolled": true
   },
   "outputs": [],
   "source": [
    "def showParcours(labyrinthe,vus,cote,nli,ncol) :\n",
    "    showLabyrinthe(labyrinthe,50,4,8)\n",
    "    for s in vus :\n",
    "        t.up()\n",
    "        t.goto(-100+int((s[1]-0.5)*cote),100-int((s[0]-0.5)*cote))\n",
    "        t.down()\n",
    "        t.dot(5,'red')\n",
    "       "
   ]
  },
  {
   "cell_type": "code",
   "execution_count": 13,
   "metadata": {},
   "outputs": [
    {
     "ename": "Terminator",
     "evalue": "",
     "output_type": "error",
     "traceback": [
      "\u001b[1;31m---------------------------------------------------------------------------\u001b[0m",
      "\u001b[1;31mTerminator\u001b[0m                                Traceback (most recent call last)",
      "\u001b[1;32m<ipython-input-13-b4783bf2417d>\u001b[0m in \u001b[0;36m<module>\u001b[1;34m()\u001b[0m\n\u001b[0;32m      3\u001b[0m \u001b[0mt\u001b[0m\u001b[1;33m.\u001b[0m\u001b[0mexitonclick\u001b[0m\u001b[1;33m(\u001b[0m\u001b[1;33m)\u001b[0m\u001b[1;33m\u001b[0m\u001b[0m\n\u001b[0;32m      4\u001b[0m \u001b[1;33m\u001b[0m\u001b[0m\n\u001b[1;32m----> 5\u001b[1;33m \u001b[0mt\u001b[0m\u001b[1;33m.\u001b[0m\u001b[0mmainloop\u001b[0m\u001b[1;33m(\u001b[0m\u001b[1;33m)\u001b[0m\u001b[1;33m\u001b[0m\u001b[0m\n\u001b[0m",
      "\u001b[1;32mC:\\EduPython\\App\\lib\\turtle.py\u001b[0m in \u001b[0;36mmainloop\u001b[1;34m()\u001b[0m\n",
      "\u001b[1;31mTerminator\u001b[0m: "
     ]
    }
   ],
   "source": [
    "# affichage des sommets visités\n",
    "showParcours(labyrinthe,vus,50,4,8)\n",
    "t.exitonclick()\n",
    "\n",
    "t.mainloop()"
   ]
  },
  {
   "cell_type": "code",
   "execution_count": null,
   "metadata": {
    "collapsed": true
   },
   "outputs": [],
   "source": []
  },
  {
   "cell_type": "code",
   "execution_count": 14,
   "metadata": {},
   "outputs": [
    {
     "name": "stdout",
     "output_type": "stream",
     "text": [
      "[(2, 1)]\n",
      "[(1, 1), (2, 1), (2, 2), (3, 2), (4, 2), (4, 3), (4, 4), (2, 3), (1, 3), (1, 4), (2, 4), (3, 4), (3, 5), (3, 6), (3, 7), (4, 7), (4, 8), (3, 8), (2, 7), (4, 6), (4, 5), (2, 6), (1, 6), (1, 7), (1, 8), (2, 8), (2, 5), (1, 5)]\n"
     ]
    }
   ],
   "source": [
    "# DFS\n",
    "sommet=(1,1)\n",
    "vus=[sommet]\n",
    "aVoir=labyrinthe.lstAdj[(1,1)][:]\n",
    "print(aVoir)\n",
    "while aVoir != [] :\n",
    "    sommet=aVoir.pop()\n",
    "    vus.append(sommet)\n",
    "    voisins=labyrinthe.lstAdj[sommet]\n",
    "    for s in voisins :\n",
    "        if s not in vus and s not in aVoir :\n",
    "            aVoir.append(s)\n",
    "print(vus)\n",
    "\n",
    "    "
   ]
  },
  {
   "cell_type": "code",
   "execution_count": null,
   "metadata": {
    "collapsed": true
   },
   "outputs": [],
   "source": []
  },
  {
   "cell_type": "code",
   "execution_count": 15,
   "metadata": {},
   "outputs": [
    {
     "ename": "Terminator",
     "evalue": "",
     "output_type": "error",
     "traceback": [
      "\u001b[1;31m---------------------------------------------------------------------------\u001b[0m",
      "\u001b[1;31mTerminator\u001b[0m                                Traceback (most recent call last)",
      "\u001b[1;32m<ipython-input-15-b4783bf2417d>\u001b[0m in \u001b[0;36m<module>\u001b[1;34m()\u001b[0m\n\u001b[0;32m      3\u001b[0m \u001b[0mt\u001b[0m\u001b[1;33m.\u001b[0m\u001b[0mexitonclick\u001b[0m\u001b[1;33m(\u001b[0m\u001b[1;33m)\u001b[0m\u001b[1;33m\u001b[0m\u001b[0m\n\u001b[0;32m      4\u001b[0m \u001b[1;33m\u001b[0m\u001b[0m\n\u001b[1;32m----> 5\u001b[1;33m \u001b[0mt\u001b[0m\u001b[1;33m.\u001b[0m\u001b[0mmainloop\u001b[0m\u001b[1;33m(\u001b[0m\u001b[1;33m)\u001b[0m\u001b[1;33m\u001b[0m\u001b[0m\n\u001b[0m",
      "\u001b[1;32mC:\\EduPython\\App\\lib\\turtle.py\u001b[0m in \u001b[0;36mmainloop\u001b[1;34m()\u001b[0m\n",
      "\u001b[1;31mTerminator\u001b[0m: "
     ]
    }
   ],
   "source": [
    "# affichage des sommets visités\n",
    "showParcours(labyrinthe,vus,50,4,8)\n",
    "t.exitonclick()\n",
    "\n",
    "t.mainloop()"
   ]
  },
  {
   "cell_type": "markdown",
   "metadata": {},
   "source": [
    "<b>2) On souhaite tracer les chemins, et non plus seulement les sommets visités</b>\n",
    "\n",
    "Il va donc maintenant garder en mémoire, pour chaque sommet, le parent associé (d'ou l'on venait)\n",
    "\n",
    "Pour cela recopiez la fonction DFS faites précédement et modifiez là comme suit :\n",
    "\n",
    "1) avant la boucle créez une liste vide chemin et un dictionnaire vide parent\n",
    "2) toujours avant la boucle, pour chaque sommet s dans aVoir, définir son parent égal à (1,1) : parent[s] = (1,1)\n",
    "3) A chaue fois qu'on ajoute un sommet dans aVoir, il faut définir son parent dans le dictionnaire parent\n",
    "3) A chaque fois qu'on ajoute un sommet dans vus on doit ajouter dans chemin un tuple (parent[sommet],sommet)\n"
   ]
  },
  {
   "cell_type": "code",
   "execution_count": 16,
   "metadata": {},
   "outputs": [
    {
     "name": "stdout",
     "output_type": "stream",
     "text": [
      "[((1, 1), (2, 1)), ((2, 1), (2, 2)), ((2, 2), (3, 2)), ((3, 2), (4, 2)), ((4, 2), (4, 3)), ((4, 3), (4, 4)), ((2, 2), (2, 3)), ((2, 3), (1, 3)), ((1, 3), (1, 4)), ((1, 4), (2, 4)), ((2, 4), (3, 4)), ((3, 4), (3, 5)), ((3, 5), (3, 6)), ((3, 6), (3, 7)), ((3, 7), (4, 7)), ((4, 7), (4, 8)), ((4, 8), (3, 8)), ((3, 7), (2, 7)), ((3, 6), (4, 6)), ((4, 6), (4, 5)), ((3, 6), (2, 6)), ((2, 6), (1, 6)), ((1, 6), (1, 7)), ((1, 7), (1, 8)), ((1, 8), (2, 8)), ((2, 6), (2, 5)), ((1, 4), (1, 5))]\n"
     ]
    }
   ],
   "source": [
    "# DFS\n",
    "sommet=(1,1)\n",
    "vus= [sommet]\n",
    "aVoir=labyrinthe.lstAdj[(1,1)][:]\n",
    "chemin=[]\n",
    "parent={}\n",
    "for s in aVoir :\n",
    "    parent[s]=sommet\n",
    "while aVoir != [] :\n",
    "    sommet=aVoir.pop()\n",
    "    vus.append(sommet)\n",
    "    chemin.append((parent[sommet],sommet))\n",
    "    voisins=labyrinthe.lstAdj[sommet]\n",
    "    #print(voisins)\n",
    "    for s in voisins :\n",
    "        if s not in vus and s not in aVoir :\n",
    "            aVoir.append(s)\n",
    "            parent[s]=sommet\n",
    "print(chemin)\n",
    "    "
   ]
  },
  {
   "cell_type": "code",
   "execution_count": 17,
   "metadata": {
    "collapsed": true,
    "scrolled": true
   },
   "outputs": [],
   "source": [
    "def showChemin(labyrinthe,chemin,cote,nli,ncol) :\n",
    "    showLabyrinthe(labyrinthe,50,4,8)\n",
    "    for line in chemin :\n",
    "        t.up()\n",
    "        s=line[0]\n",
    "        t.goto(-100+int((s[1]-0.5)*cote),100-int((s[0]-0.5)*cote))\n",
    "        t.down()\n",
    "        t.dot(5,'red')\n",
    "        s=line[1]\n",
    "        t.goto(-100+int((s[1]-0.5)*cote),100-int((s[0]-0.5)*cote))\n",
    "        t.dot(5,'red')\n",
    "      \n",
    "       "
   ]
  },
  {
   "cell_type": "code",
   "execution_count": 22,
   "metadata": {},
   "outputs": [
    {
     "ename": "Terminator",
     "evalue": "",
     "output_type": "error",
     "traceback": [
      "\u001b[1;31m---------------------------------------------------------------------------\u001b[0m",
      "\u001b[1;31mTerminator\u001b[0m                                Traceback (most recent call last)",
      "\u001b[1;32m<ipython-input-22-a0fd9e3d1f63>\u001b[0m in \u001b[0;36m<module>\u001b[1;34m()\u001b[0m\n\u001b[0;32m      3\u001b[0m \u001b[0mt\u001b[0m\u001b[1;33m.\u001b[0m\u001b[0mexitonclick\u001b[0m\u001b[1;33m(\u001b[0m\u001b[1;33m)\u001b[0m\u001b[1;33m\u001b[0m\u001b[0m\n\u001b[0;32m      4\u001b[0m \u001b[1;33m\u001b[0m\u001b[0m\n\u001b[1;32m----> 5\u001b[1;33m \u001b[0mt\u001b[0m\u001b[1;33m.\u001b[0m\u001b[0mmainloop\u001b[0m\u001b[1;33m(\u001b[0m\u001b[1;33m)\u001b[0m\u001b[1;33m\u001b[0m\u001b[0m\n\u001b[0m",
      "\u001b[1;32mC:\\EduPython\\App\\lib\\turtle.py\u001b[0m in \u001b[0;36mmainloop\u001b[1;34m()\u001b[0m\n",
      "\u001b[1;31mTerminator\u001b[0m: "
     ]
    }
   ],
   "source": [
    "# affichage des sommets visités\n",
    "showChemin(labyrinthe,chemin,50,4,8)\n",
    "t.exitonclick()\n",
    "\n",
    "t.mainloop()"
   ]
  },
  {
   "cell_type": "code",
   "execution_count": 21,
   "metadata": {},
   "outputs": [
    {
     "name": "stdout",
     "output_type": "stream",
     "text": [
      "[((1, 1), (2, 1)), ((2, 1), (2, 2)), ((2, 2), (3, 2)), ((3, 2), (4, 2)), ((4, 2), (4, 3)), ((4, 3), (4, 4)), ((2, 2), (2, 3)), ((2, 3), (1, 3)), ((1, 3), (1, 4)), ((1, 4), (2, 4)), ((2, 4), (3, 4)), ((3, 4), (3, 5)), ((3, 5), (3, 6)), ((3, 6), (3, 7)), ((3, 7), (4, 7)), ((4, 7), (4, 8))]\n"
     ]
    }
   ],
   "source": [
    "# DFS\n",
    "sommet=(1,1)\n",
    "vus= [sommet]\n",
    "aVoir=labyrinthe.lstAdj[(1,1)][:]\n",
    "chemin=[]\n",
    "parent={}\n",
    "sortie=(4,8)\n",
    "for s in aVoir :\n",
    "    parent[s]=sommet\n",
    "while aVoir != [] :\n",
    "    sommet=aVoir.pop()\n",
    "    vus.append(sommet)\n",
    "    chemin.append((parent[sommet],sommet))\n",
    "    if sommet==sortie:\n",
    "        break;\n",
    "    voisins=labyrinthe.lstAdj[sommet]\n",
    "    #print(voisins)\n",
    "    for s in voisins :\n",
    "        if s not in vus and s not in aVoir :\n",
    "            aVoir.append(s)\n",
    "            parent[s]=sommet\n",
    "print(chemin)\n",
    "    "
   ]
  },
  {
   "cell_type": "code",
   "execution_count": 23,
   "metadata": {},
   "outputs": [
    {
     "data": {
      "text/plain": [
       "[((1, 1), (2, 1)),\n",
       " ((2, 1), (2, 2)),\n",
       " ((2, 2), (3, 2)),\n",
       " ((3, 2), (4, 2)),\n",
       " ((4, 2), (4, 3)),\n",
       " ((4, 3), (4, 4)),\n",
       " ((2, 2), (2, 3)),\n",
       " ((2, 3), (1, 3)),\n",
       " ((1, 3), (1, 4)),\n",
       " ((1, 4), (2, 4)),\n",
       " ((2, 4), (3, 4)),\n",
       " ((3, 4), (3, 5)),\n",
       " ((3, 5), (3, 6)),\n",
       " ((3, 6), (3, 7)),\n",
       " ((3, 7), (4, 7)),\n",
       " ((4, 7), (4, 8))]"
      ]
     },
     "execution_count": 23,
     "metadata": {},
     "output_type": "execute_result"
    }
   ],
   "source": [
    "chemin\n"
   ]
  },
  {
   "cell_type": "code",
   "execution_count": null,
   "metadata": {
    "collapsed": true
   },
   "outputs": [],
   "source": []
  }
 ],
 "metadata": {
  "kernelspec": {
   "display_name": "Python 3",
   "language": "python",
   "name": "python3"
  },
  "language_info": {
   "codemirror_mode": {
    "name": "ipython",
    "version": 3
   },
   "file_extension": ".py",
   "mimetype": "text/x-python",
   "name": "python",
   "nbconvert_exporter": "python",
   "pygments_lexer": "ipython3",
   "version": "3.4.5"
  }
 },
 "nbformat": 4,
 "nbformat_minor": 2
}
