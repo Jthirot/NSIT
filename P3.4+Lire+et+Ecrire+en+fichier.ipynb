{
 "cells": [
  {
   "cell_type": "markdown",
   "metadata": {},
   "source": [
    "# Gestion de fichiers\n",
    "\n",
    "\n",
    "Vous allez gérer des fichiers dans des répertoires.\n",
    "Si vous êtes au lycée (et vous pourrez faire de même chez vous), il est probable que vous allez travailler sur votre clef USB et que celle-ci est installée sur D:\\\n",
    "\n"
   ]
  },
  {
   "cell_type": "markdown",
   "metadata": {},
   "source": [
    "## Avant de commencer\n",
    "\n",
    "Nous allons beaucoup travailler sur des répertoires et des fichiers, autrement dit sur votre disque ou clef ou autre support de stockage de données. Donc je vais vous donner quelques informations générales avant de commencer pour que, malgré vos différents systèmes et configurations, vous puissiez essayer les instructions que je vais vous montrer.\n",
    "\n",
    "Mais d'abord, pourquoi lire ou écrire dans des fichiers ?\n",
    "Peut-être que vous ne voyez pas trop l'intérêt de savoir lire et écrire dans des fichiers, hormis quelques applications de temps à autre. Mais souvenez-vous que, quand vous fermez votre programme, aucune de vos variables n'est sauvegardée. Or, les fichiers peuvent être, justement, un excellent moyen de garder les valeurs de certains objets pour pouvoir les récupérer quand vous rouvrirez votre programme. Par exemple, un petit jeu peut enregistrer les scores des joueurs.\n",
    "\n",
    "Si, dans notre TP ZCasino, nous avions pu enregistrer la somme que nous avions en poche au moment de quitter le casino, nous aurions pu rejouer sans repartir de zéro.\n",
    "\n",
    "### Quelques manipulations préliminaires\n",
    "\n",
    "Créez un répertoire JUPYTER sur votre clef usb (gardez les majuscules).Nous considèrerons ce repertoire D:\\JUPYTER comme la racine (le point de départ).\n",
    "Créez ensuite un répertoire lireEcrireFichier dans le répertoire JUPYTER.\n",
    "\n",
    "### se repérer dans un disque dur\n",
    "\n",
    "Lancez Edupython et saisir dans la console :\n",
    "\n"
   ]
  },
  {
   "cell_type": "code",
   "execution_count": 3,
   "metadata": {},
   "outputs": [
    {
     "name": "stdout",
     "output_type": "stream",
     "text": [
      "D:\\jupyter\\graphes2020\n"
     ]
    }
   ],
   "source": [
    "import os\n",
    "print(os.getcwd())\n",
    "# Vous obtenez par exemple :\n",
    "#'C:/users/JLT/Documents'\n"
   ]
  },
  {
   "cell_type": "markdown",
   "metadata": {},
   "source": [
    "Ce ne sera sans doute pas celà pour vous, mais cette commande indique dans quel répertoire que vous travaillez en ce moment.\n",
    "\n",
    "Je vous conseille, que vous soyez sous Windows ou non, d'utiliser le symbole / pour décrire un chemin.\n",
    "\n",
    "Vous pouvez utiliser, en le doublant, l'antislash \\\\ mais, si vous oubliez de le doubler, vous aurez des erreurs. Je vous conseille donc d'utiliser le slash /, cela fonctionne très bien même sous Windows.\n",
    "\n",
    "Quand vous lancez un programme Python directement, par exemple en faisant un double-clic dessus, le répertoire courant est celui d'où vous lancez le programme.\n",
    "\n",
    "Par exemple, Si vous avez un fichier mon_programme.py contenu sur le disque dans C:/users/Bureau, le répertoire de travail courant quand vous lancerez le programme sera C:/users/Bureau."
   ]
  },
  {
   "cell_type": "markdown",
   "metadata": {},
   "source": [
    "Chemins relatifs et absolus\n",
    "Pour décrire l'arborescence d'un système, on a deux possibilités :\n",
    "\n",
    "les chemins absolus et les chemins relatifs.\n",
    "\n",
    "### Le chemin absolu\n",
    "Quand on décrit une cible (un fichier ou un répertoire) sous la forme d'un chemin absolu, on décrit la suite des répertoires menant au fichier. Sous Windows, on partira du nom de volume (C:\\,D:\\…). Sous les systèmes Unix, ce sera plus vraisemblablement depuis /.\n",
    "\n",
    "Par exemple, sous Windows, si on a **un fichier nommé fic.txt**, contenu dans un **dossier test**, lui-même présent sur le disque C:, le **chemin absolu** menant à notre fichier sera **C:\\test\\fic.txt**.\n",
    "\n",
    "### Le chemin relatif\n",
    "Quand on décrit la position d'un fichier grâce à un chemin relatif, cela veut dire que l'on tient compte du dossier dans lequel on se trouve actuellement. Ainsi, si on se trouve dans le dossier **C:\\test** et que l'on souhaite accéder au fichier **fic.txt** contenu dans ce même dossier, le chemin relatif menant à ce fichier sera tout simplement **fic.txt**.\n",
    "\n",
    "Maintenant, si on se trouve dans C:, notre chemin relatif sera **test/fic.txt**.\n",
    "\n",
    "Quand on décrit un chemin relatif, on utilise parfois le symbole **..** qui désigne le répertoire parent. Voici un nouvel exemple :\n",
    "<pre>\n",
    "C:\n",
    "|\n",
    "----test\n",
    "      |\n",
    "      -----rep1\n",
    "      |        fic1.txt\n",
    "      -----rep2\n",
    "              fic2.txt\n",
    "              fic3.txt\n",
    "</pre>\n",
    "Dans **C:** on a un répertoire **test**. <br>\n",
    "Dans **test**, deux répertoires **rep1** et **rep2**<br>\n",
    "**rep1** contient **fic1.txt**<br>\n",
    "**rep2** contient **fic2.txt** et **fic3.txt**.<br>\n",
    "\n",
    "Si le **répertoire de travail courant est rep2** et que l'on souhaite accéder à **fic1.txt**, notre chemin relatif sera donc **..\\rep1\\fic1.txt**.\n",
    "\n",
    "J'utilise ici des antislashs parce que l'exemple d'arborescence est un modèle Windows et que ce sont les séparateurs utilisés pour décrire une arborescence Windows. Mais, dans votre code je vous conseille quand même d'utiliser un slash(/)."
   ]
  },
  {
   "cell_type": "markdown",
   "metadata": {},
   "source": [
    "## Créez un fichier avec bloc-note ou notepad++"
   ]
  },
  {
   "cell_type": "markdown",
   "metadata": {},
   "source": [
    "Nous allons commencer à lire avant d'écrire dans un fichier. Pour l'exemple donc, je vous invite à créer :\n",
    "\n",
    "1- Un répertoire Data dans D:/JUPYTER/lireEcrireFichier\n",
    "\n",
    "2- A l'aide d'un éditeur sans mise en forme (tel que le bloc-notes Windows, ou notepad++, mais veillez à enregistrer au format txt ) écrivons dans ce fichier :\n",
    "\n",
    "<i>C'est le contenu du fichier. Spectaculaire non ?</i>\n",
    "\n",
    "et enregistrez ce fichier dans **D:/JUPYTER/lireEcrireFichier/fichier.txt**"
   ]
  },
  {
   "cell_type": "markdown",
   "metadata": {},
   "source": [
    "## la fonction open\n",
    "\n",
    "Nous allons voir comment lire les données dans ce fichier que nous venons de créer.\n",
    "Rendons nous dans le bon répertoire :"
   ]
  },
  {
   "cell_type": "code",
   "execution_count": 9,
   "metadata": {},
   "outputs": [
    {
     "data": {
      "text/plain": [
       "'D:\\\\JUPYTER\\\\lireEcrireFichier'"
      ]
     },
     "execution_count": 9,
     "metadata": {},
     "output_type": "execute_result"
    }
   ],
   "source": [
    "os.chdir(\"D:/JUPYTER/lireEcrireFichier\")\n",
    "os.getcwd()"
   ]
  },
  {
   "cell_type": "markdown",
   "metadata": {},
   "source": [
    "<p>D'abord, il nous faut ouvrir le fichier avec Python. On utilise pour ce faire la fonction<code>open</code>, disponible sans avoir besoin de rien importer. Elle prend en paramètre :</p>\n",
    "\n",
    "<ul><li>le chemin (absolu ou relatif) menant au fichier à ouvrir ;</li><li>le mode d'ouverture.</li></ul>\n",
    "\n",
    "<p>Le mode est donné sous la forme d'une chaîne de caractères. Voici les principaux modes :</p>\n",
    "\n",
    "<ul><li><code>'r'</code>: ouverture en lecture (Read).</li><li><code>'w'</code>: ouverture en écriture (Write). Le contenu du fichier est écrasé. Si le fichier n'existe pas, il est créé.</li><li><code>'a'</code>: ouverture en écriture en mode ajout (Append). On écrit à la fin du fichier sans écraser l'ancien contenu du fichier. Si le fichier n'existe pas, il est créé.</li></ul>\n",
    "\n",
    "<p>Il existe d'autres modes, mais pour nous cela sera suffisant.</p>\n",
    "\n",
    "<p>Ici nous souhaitons lire le fichier. Nous allons donc utiliser le mode <code>'r'</code>.</p>\n",
    "\n"
   ]
  },
  {
   "cell_type": "code",
   "execution_count": 10,
   "metadata": {},
   "outputs": [],
   "source": [
    "mon_fichier = open(\"fichier.txt\", \"r\")"
   ]
  },
  {
   "cell_type": "code",
   "execution_count": 11,
   "metadata": {},
   "outputs": [
    {
     "data": {
      "text/plain": [
       "<_io.TextIOWrapper name='fichier.txt' mode='r' encoding='cp1252'>"
      ]
     },
     "execution_count": 11,
     "metadata": {},
     "output_type": "execute_result"
    }
   ],
   "source": [
    "mon_fichier"
   ]
  },
  {
   "cell_type": "code",
   "execution_count": 12,
   "metadata": {},
   "outputs": [
    {
     "data": {
      "text/plain": [
       "_io.TextIOWrapper"
      ]
     },
     "execution_count": 12,
     "metadata": {},
     "output_type": "execute_result"
    }
   ],
   "source": [
    "type(mon_fichier)"
   ]
  },
  {
   "cell_type": "markdown",
   "metadata": {},
   "source": [
    "<p><font color=\"red\">L'encodage</font> précisé quand on affiche le fichier dans l'interpréteur peut être très différent suivant votre système. Ici, je suis dans l'interpréteur Python dans Windows et l'encodage choisi est donc un encodage Windows propre à la console. Ne soyez pas surpris s'il est différent chez vous. Nous verrons un peu plus loin comment choisir un encodage plus adapté.</p>\n",
    "\n",
    "<p>La fonction <font color=\"blue\">open</font> crée donc un fichier. Elle renvoie un objet de la classe <code>_ioTextWrapper</code>. Par la suite, nous allons utiliser des fonctions liées à cette classe pour interagir avec le fichier.</p>\n",
    "\n",
    "<p>**Le type** de l'objet doit vous surprendre quelque peu. Cela aurait très bien pu être un type <code>file</code> après tout. En fait,<code>open</code> permet d'ouvrir un fichier, mais <code>_ioTextIoWrapper</code> est utilisé dans d'autres circonstances, pour afficher du texte à l'écran par exemple. Bon, cela ne nous concerne pas trop ici, je ne vais pas m'y attarder.</p>\n",
    "\n",
    "\n",
    "## Fermer le fichier\n",
    "\n",
    "<p>**N'oubliez pas de fermer un fichier après l'avoir ouvert. Si d'autres applications, ou d'autres morceaux de votre propre code, souhaitent accéder à ce fichier, ils ne pourront pas car le fichier sera déjà ouvert**.</p> \n",
    "\n",
    "<p>C'est surtout vrai en écriture, mais prenez de bonnes habitudes. La méthode à utiliser est <font color=\"blue\">close</font>:</p>\n"
   ]
  },
  {
   "cell_type": "code",
   "execution_count": 19,
   "metadata": {
    "collapsed": true
   },
   "outputs": [],
   "source": [
    "mon_fichier.close()"
   ]
  },
  {
   "cell_type": "markdown",
   "metadata": {},
   "source": [
    " ## Lire l'intégralité du fichier\n",
    " Pour ce faire, on utilise la méthode <font color=\"blue\">read</font>. Elle renvoie l'intégralité du fichier :"
   ]
  },
  {
   "cell_type": "code",
   "execution_count": 18,
   "metadata": {},
   "outputs": [
    {
     "name": "stdout",
     "output_type": "stream",
     "text": [
      "C'est le contenu du fichier. Spectaculaire non ?\n"
     ]
    }
   ],
   "source": [
    "mon_fichier = open(\"fichier.txt\", \"r\")\n",
    "contenu = mon_fichier.read()\n",
    "print(contenu)\n",
    "mon_fichier.close()"
   ]
  },
  {
   "cell_type": "markdown",
   "metadata": {},
   "source": [
    "<p>Quoi de plus simple ? La méthode <font color=\"blue\">read</font> renvoie tout le contenu du fichier, que l'on capture dans une chaîne de caractères. Notre fichier ne contient pas de saut de ligne mais, si c'était le cas, vous auriez dans votre variable <font color=\"darkgreen\">contenu</font> les signes **\\n** traduisant un saut de ligne.</p>\n",
    "\n",
    "<p>Maintenant que vous avez une chaîne, vous pouvez naturellement tout faire : la convertir, tout entière ou en partie… .</p>\n",
    "\n",
    "## Écriture dans un fichier\n",
    "\n",
    "<p>Bien entendu, il nous faut ouvrir le fichier avant tout. Vous pouvez utiliser le mode <code>w</code> ou le mode<code>a</code>. Le premier écrase le contenu éventuel du fichier, alors que le second ajoute ce que l'on écrit à la fin du fichier. À vous de voir en fonction de vos besoins. Dans tous les cas, ces deux modes créent le fichier s'il n'existe pas.</p>\n",
    "\n",
    "### Écrire une chaîne\n",
    "\n",
    "<p>Pour écrire dans un fichier, on utilise la méthode <font color=\"blue\">write</font> en lui passant en paramètre la chaîne à écrire dans le fichier. Elle renvoie le nombre de caractères qui ont été écrits. On n'est naturellement pas obligé de récupérer cette valeur, sauf si on en a besoin.</p>\n",
    "\n",
    "<p>Voici un exemple : nous allons d'abord écrire 2 lignes dans le fichier, puis les relire :</p>\n"
   ]
  },
  {
   "cell_type": "code",
   "execution_count": 27,
   "metadata": {},
   "outputs": [
    {
     "data": {
      "text/plain": [
       "50"
      ]
     },
     "execution_count": 27,
     "metadata": {},
     "output_type": "execute_result"
    }
   ],
   "source": [
    "mon_fichier = open(\"fichier.txt\", \"w\") # Argh j'ai tout écrasé !\n",
    "mon_fichier.write(\"Premier test d'écriture dans un fichier via Python\")\n"
   ]
  },
  {
   "cell_type": "code",
   "execution_count": 28,
   "metadata": {},
   "outputs": [
    {
     "data": {
      "text/plain": [
       "6"
      ]
     },
     "execution_count": 28,
     "metadata": {},
     "output_type": "execute_result"
    }
   ],
   "source": [
    "mon_fichier.write('ligne2')"
   ]
  },
  {
   "cell_type": "code",
   "execution_count": 30,
   "metadata": {},
   "outputs": [
    {
     "name": "stdout",
     "output_type": "stream",
     "text": [
      "Premier test d'écriture dans un fichier via Pythonligne2\n"
     ]
    }
   ],
   "source": [
    "mon_fichier.close()\n",
    "mon_fichier = open(\"fichier.txt\", \"r\") \n",
    "c=mon_fichier.read()\n",
    "print(c)"
   ]
  },
  {
   "cell_type": "markdown",
   "metadata": {},
   "source": [
    "<p>Vous pouvez vérifier que votre fichier contient bien le texte qu'on y a écrit. Vous avez de fortes chance d'observer 2 défauts :</p>\n",
    "\n",
    "<ul><li>L'accent de écriture est mal transcrit (ce n'est pas le cas ici, celà dépend du système et du programme utilisé)</li>\n",
    "<li>La deuxième ligne est mis au bout de la première</li></ul>\n",
    "\n",
    "## encodage et caractères de fin de ligne\n",
    "\n",
    "<p>Pour le problème  des accents, c'est un problème d'encodage du texte, et nous aborderons plus tard cette question. Pour y remédier, lors de l'ouverture (en écriture comme en lecture), vous aller toujours prend l'habitude de préciser l'encodage avec l'option <font color=\"blue\">encoding='utf-8'</font></p>\n",
    "\n",
    "<p>Pour le problème de retour à la ligne, il suffit d'ajouter un caractère de fin de ligne lors de l'écriture : \\\\n.</p>\n"
   ]
  },
  {
   "cell_type": "code",
   "execution_count": 34,
   "metadata": {},
   "outputs": [
    {
     "name": "stdout",
     "output_type": "stream",
     "text": [
      "Premier test d'écriture dans un fichier via Python\n",
      "ligne2\n",
      "\n"
     ]
    }
   ],
   "source": [
    "# OUVERTURE EN ECRITURE :\n",
    "mon_fichier = open(\"fichier.txt\", \"w\", encoding='utf-8') \n",
    "# ON ECRIT 2 LIGNES\n",
    "mon_fichier.write(\"Premier test d'écriture dans un fichier via Python\\n\")\n",
    "mon_fichier.write('ligne2'+'\\n')\n",
    "# FERMETURE\n",
    "mon_fichier.close()\n",
    "# REOUVERTURE EN LECTURE\n",
    "mon_fichier = open(\"fichier.txt\", \"r\" , encoding='utf-8')\n",
    "# LECTURE DU CONTENU (en entier)\n",
    "c=mon_fichier.read()\n",
    "\n",
    "print(c)"
   ]
  },
  {
   "cell_type": "markdown",
   "metadata": {},
   "source": [
    "Vous pouvez regarder dans fichier.txt, vous verrez que les **\\n** n'apparaissent pas et que le texte est bien sur 2 lignes.\n",
    "\n",
    "## ecrire autre chose que du texte\n",
    "\n",
    "La méthodewrite n'accepte en paramètre que des chaînes de caractères. Si vous voulez écrire dans votre fichier des nombres, des scores par exemple, il vous faudra les convertir en chaîne avant de les écrire et les convertir en entier après les avoir lus.\n",
    "\n",
    "##  la méthode with (recommandée)\n",
    "\n",
    "<p>Ne désespérez pas, il ne nous reste plus autant de mots-clés à découvrir… mais quelques-uns tout de même. Et même certains dont je ne parlerai pas…</p>\n",
    "\n",
    "<p>On n'est jamais à l'abri d'une erreur. Surtout quand on manipule des fichiers. Il peut se produire des erreurs quand on lit, quand on écrit… et si l'on n'y prend pas garde, le fichier restera ouvert.</p>\n",
    "\n",
    "<p>Comme je vous l'ai dit, c'est plutôt gênant et cela peut même être grave. Si votre programme souhaite de nouveau utiliser ce fichier, il ne pourra pas forcément y accéder, puisqu'il a déjà été ouvert.</p>\n",
    "\n",
    "<p>Il existe un mot-clé qui permet d'éviter cette situation :\n",
    "\n",
    "<font color=\"blue\">with</font>. Voici sa syntaxe :</p>\n"
   ]
  },
  {
   "cell_type": "code",
   "execution_count": 37,
   "metadata": {},
   "outputs": [
    {
     "name": "stdout",
     "output_type": "stream",
     "text": [
      "Premier test d'écriture dans un fichier via Python\n",
      "ligne2\n",
      "\n"
     ]
    }
   ],
   "source": [
    "with open('fichier.txt', 'r',encoding='utf-8') as mon_fichier:\n",
    "     texte = mon_fichier.read()\n",
    "print(texte)"
   ]
  },
  {
   "cell_type": "code",
   "execution_count": 38,
   "metadata": {},
   "outputs": [
    {
     "name": "stdout",
     "output_type": "stream",
     "text": [
      "Premier test d'Ã©criture dans un fichier via Python\n",
      "ligne2\n",
      "\n"
     ]
    }
   ],
   "source": [
    "# ah tient... essayons sans préciser l'encodage.... !!!\n",
    "with open('fichier.txt', 'r') as mon_fichier:\n",
    "     texte = mon_fichier.read()\n",
    "print(texte)"
   ]
  },
  {
   "cell_type": "markdown",
   "metadata": {},
   "source": [
    "Retenir, pour lire un fichier avec with :\n",
    "<ul>\n",
    "<li>Le mot-clé <code>with</code>, prélude au bloc dans lequel on va manipuler notre fichier.</li>\n",
    "<li><code>open</code> qui va renvoyer un objet <code>_ioTextWrapper</code> (notre fichier).</li>\n",
    "<li>Le mot-clé<code>as</code>. Il signifie  : « en tant que ».</li><li>Notre variable qui contiendra notre objet. Si la variable n'existe pas, Python la crée.</li>\n",
    "</ul>\n",
    "\n",
    "La chose importante à comprendre : <br>\n",
    "<pre>\n",
    "with open(...) as ... : \n",
    "   instrctrution\n",
    "fin du bloc\n",
    "</pre>\n",
    "with ouvre le fichier, puis on commence un bloc (indentation). lorsque l'on sort du bloc (fin d'indentation) le fichier se automatiquement fermé, on a donc pas de risque d'oublier de le faire... et cela évitera beaucoup d'erreurs !!\n",
    "\n",
    "## lire ligne par ligne\n",
    "\n",
    "Lire tout le fichier d'un seul bloc n'est pas forcément idéal, nous allons envisager d'autres façon de lire, ligne par ligne. Pour cela on aura avantage à utiliser la méthode with :"
   ]
  },
  {
   "cell_type": "code",
   "execution_count": 40,
   "metadata": {},
   "outputs": [
    {
     "name": "stdout",
     "output_type": "stream",
     "text": [
      "Premier test d'écriture dans un fichier via Python\n",
      "\n",
      "ligne2\n",
      "\n"
     ]
    }
   ],
   "source": [
    "with open('fichier.txt', 'r' , encoding='utf-8') as mon_fichier:\n",
    "    for i in mon_fichier.readlines() :\n",
    "        print(i)"
   ]
  },
  {
   "cell_type": "markdown",
   "metadata": {},
   "source": [
    "Pourquoi y'a-t-il un saut d'une ligne entre les 2 lignes ? A cause des \\n !"
   ]
  },
  {
   "cell_type": "code",
   "execution_count": 42,
   "metadata": {},
   "outputs": [
    {
     "name": "stdout",
     "output_type": "stream",
     "text": [
      "Premier test d'écriture dans un fichier via Python\n",
      "ligne2\n"
     ]
    }
   ],
   "source": [
    "with open('fichier.txt', 'r' , encoding='utf-8') as mon_fichier:\n",
    "    for i in mon_fichier.readlines() :\n",
    "        ligne=i.replace('\\n','') # on remplace les \\n par '' \n",
    "        print(ligne)"
   ]
  },
  {
   "cell_type": "markdown",
   "metadata": {},
   "source": [
    "# <font color=\"red\">En résumé</font>\n",
    "Récapitulons le code complet lecture et écriture :\n",
    "<pre>\n",
    "# <font color=\"red\">ECRITURE</font>\n",
    "with open('fichier.txt', 'w' , encoding='utf-8') as mon_fichier:\n",
    "    mon_fichier.write(\"Premier test d'écriture dans un fichier via Python\\n\")\n",
    "    mon_fichier.write(\"ligne2\\n\")\n",
    "# <font color=\"red\">LECTURE</font>\n",
    "with open('fichier.txt', 'r' , encoding='utf-8') as mon_fichier:\n",
    "    for i in mon_fichier.readlines() :\n",
    "        ligne=i.replace('\\n','')\n",
    "        print(ligne)\n",
    "</pre>\n"
   ]
  },
  {
   "cell_type": "code",
   "execution_count": null,
   "metadata": {
    "collapsed": true
   },
   "outputs": [],
   "source": []
  }
 ],
 "metadata": {
  "kernelspec": {
   "display_name": "Python 3",
   "language": "python",
   "name": "python3"
  },
  "language_info": {
   "codemirror_mode": {
    "name": "ipython",
    "version": 3
   },
   "file_extension": ".py",
   "mimetype": "text/x-python",
   "name": "python",
   "nbconvert_exporter": "python",
   "pygments_lexer": "ipython3",
   "version": "3.4.5"
  }
 },
 "nbformat": 4,
 "nbformat_minor": 2
}
